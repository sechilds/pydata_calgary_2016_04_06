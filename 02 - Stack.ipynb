{
 "cells": [
  {
   "cell_type": "code",
   "execution_count": 86,
   "metadata": {
    "collapsed": false,
    "slideshow": {
     "slide_type": "skip"
    }
   },
   "outputs": [
    {
     "data": {
      "text/html": [
       "<style>body {\n",
       "\tmargin: 0;\n",
       "\tfont-family: Helvetica;\n",
       "}\n",
       "table.dataframe {\n",
       "\tborder-collapse: collapse;\n",
       "\tborder: none;\n",
       "}\n",
       "table.dataframe tr {\n",
       "\tborder: none;\n",
       "}\n",
       "table.dataframe td, table.dataframe th {\n",
       "\tmargin: 0;\n",
       "\tborder: 1px solid white;\n",
       "\tpadding-left: 0.25em;\n",
       "\tpadding-right: 0.25em;\n",
       "}\n",
       "table.dataframe th:not(:empty) {\n",
       "\tbackground-color: #fec;\n",
       "\ttext-align: left;\n",
       "\tfont-weight: normal;\n",
       "}\n",
       "table.dataframe tr:nth-child(2) th:empty {\n",
       "\tborder-left: none;\n",
       "\tborder-right: 1px dashed #888\n",
       "}\n",
       "table.dataframe td {\n",
       "\tborder: 2px solid #ccf;\n",
       "\tbackground-color: #f4f4ff;\n",
       "}\n",
       "</style>"
      ],
      "text/plain": [
       "<IPython.core.display.HTML object>"
      ]
     },
     "execution_count": 86,
     "metadata": {},
     "output_type": "execute_result"
    }
   ],
   "source": [
    "from IPython.core.display import HTML\n",
    "css = open('style_table.css').read()\n",
    "HTML('<style>{}</style>'.format(css))"
   ]
  },
  {
   "cell_type": "code",
   "execution_count": 2,
   "metadata": {
    "collapsed": true,
    "slideshow": {
     "slide_type": "skip"
    }
   },
   "outputs": [],
   "source": [
    "from IPython.display import IFrame"
   ]
  },
  {
   "cell_type": "markdown",
   "metadata": {
    "slideshow": {
     "slide_type": "slide"
    }
   },
   "source": [
    "# Brief Introduction to the PyData Stack"
   ]
  },
  {
   "cell_type": "markdown",
   "metadata": {
    "slideshow": {
     "slide_type": "notes"
    }
   },
   "source": [
    "The term **PyData** referes to a collection of Open Source packages generally organized around the Python programming language.\n",
    "These tools are centered around dealing with data, including performing different types of analysis on it.\n",
    "The tools offer the power of commercial statistical packages, with a lot more flexibility.\n",
    "One issue, however, is that they are built as modules - meaning there is no one package or name to know.\n",
    "This talk is designed to give you a good starting point - things to google."
   ]
  },
  {
   "cell_type": "markdown",
   "metadata": {
    "slideshow": {
     "slide_type": "slide"
    }
   },
   "source": [
    "## What is **PyData**?"
   ]
  },
  {
   "cell_type": "markdown",
   "metadata": {
    "slideshow": {
     "slide_type": "fragment"
    }
   },
   "source": [
    "* **PyData** = collection of tools for working with data"
   ]
  },
  {
   "cell_type": "markdown",
   "metadata": {
    "slideshow": {
     "slide_type": "fragment"
    }
   },
   "source": [
    "* Organized around the Python programming language, but not exclusively Python"
   ]
  },
  {
   "cell_type": "markdown",
   "metadata": {
    "slideshow": {
     "slide_type": "fragment"
    }
   },
   "source": [
    "* Power and Flexibility\n",
    "* But the ecosystem can be overwhelming."
   ]
  },
  {
   "cell_type": "markdown",
   "metadata": {
    "slideshow": {
     "slide_type": "slide"
    }
   },
   "source": [
    "## Key Components"
   ]
  },
  {
   "cell_type": "markdown",
   "metadata": {
    "slideshow": {
     "slide_type": "notes"
    }
   },
   "source": [
    "I am going to talk about a few key parts of the PyData ecosystem.\n",
    "Then I'll mention a few more, but not go into detail."
   ]
  },
  {
   "cell_type": "markdown",
   "metadata": {
    "slideshow": {
     "slide_type": "notes"
    }
   },
   "source": [
    "* Jupyter Notebook\n",
    "* IPython\n",
    "* NumPy\n",
    "* Pandas\n",
    "* R\n",
    "* SciPy\n",
    "* SQLAlchemy\n",
    "* Scikit-Learn\n",
    "* Statsmodels\n",
    "* Julia\n",
    "* Big Data Stuff"
   ]
  },
  {
   "cell_type": "markdown",
   "metadata": {
    "slideshow": {
     "slide_type": "fragment"
    }
   },
   "source": [
    "* Jupyter"
   ]
  },
  {
   "cell_type": "markdown",
   "metadata": {
    "slideshow": {
     "slide_type": "fragment"
    }
   },
   "source": [
    "* Pandas"
   ]
  },
  {
   "cell_type": "markdown",
   "metadata": {
    "slideshow": {
     "slide_type": "fragment"
    }
   },
   "source": [
    "* SymPy"
   ]
  },
  {
   "cell_type": "markdown",
   "metadata": {
    "slideshow": {
     "slide_type": "slide"
    }
   },
   "source": [
    "### Jupyter Notebook"
   ]
  },
  {
   "cell_type": "code",
   "execution_count": 3,
   "metadata": {
    "collapsed": false,
    "slideshow": {
     "slide_type": "slide"
    }
   },
   "outputs": [
    {
     "data": {
      "text/html": [
       "\n",
       "        <iframe\n",
       "            width=\"1000\"\n",
       "            height=\"500\"\n",
       "            src=\"http://jupyter.org\"\n",
       "            frameborder=\"0\"\n",
       "            allowfullscreen\n",
       "        ></iframe>\n",
       "        "
      ],
      "text/plain": [
       "<IPython.lib.display.IFrame at 0x10431d208>"
      ]
     },
     "execution_count": 3,
     "metadata": {},
     "output_type": "execute_result"
    }
   ],
   "source": [
    "IFrame('http://jupyter.org', width=1000, height=500)"
   ]
  },
  {
   "cell_type": "markdown",
   "metadata": {
    "slideshow": {
     "slide_type": "notes"
    }
   },
   "source": [
    "I want to spend a bit of time discussing the Jupyter notebook - which this presentation is created in.\n",
    "Talk about the difference between Jupyter and IPython (Interactive Python).\n",
    "\n",
    "IPython started out as a better REPL (Read-Evaluate-Print-Loop) for Python.\n",
    "A replacement for `IDLE` on the command line.\n",
    "It gives you better tab-completion and some \"magics\" (starting with `%`) to do useful things.\n",
    "\n",
    "Then a web server was added, so the you have the IPython notebook,\n",
    "which lets you combine text, code and images into one document.\n",
    "\n",
    "To make it more accessible for languages other than Python (R and Julia being the first),\n",
    "the notebook project became Jupyter (which stands for JUlia, PYthon and R).\n",
    "\n",
    "The Jupyter notebook sends messages to the kernal that actually runs the code.\n",
    "It is possible to quickly write new kernels.\n",
    "The IPython kernel includes the magic methoeds - including methods that let you run R code.\n",
    "\n",
    "The notebook files are plain text using the JSON serilization format.\n",
    "The `nbconvert` utililty can convert them into a variety of formats:\n",
    "\n",
    "* a Python script\n",
    "* LaTeX\n",
    "* PDF\n",
    "* HTML\n",
    "\n",
    "The nbviewer site will render notebooks you post somewhere - e.g. Github.\n",
    "You can use Git to version control your notebooks, and it works well because they are just text.\n",
    "There is a `nbdiff` package that can give you a graphical display of the changes between two versions of the notebook.\n",
    "\n",
    "Because the notebook is in a standardized format, it is possible to write Python scripts to clean up notebook files.\n",
    "Say you wanted to keep track of the code and text in a notebook, but not the output,\n",
    "you use a script that removes that part of the file.\n",
    "Git has a way to tell it to run a \"cleaning\" script on certain files when you add them to your repository.\n",
    "\n",
    "These notebooks are a great way to explore data.\n",
    "They are also a great teaching tool and means to write documentation.\n",
    "\n",
    "You can leverage knowledge about HTML and CSS to style things, etc."
   ]
  },
  {
   "cell_type": "markdown",
   "metadata": {
    "slideshow": {
     "slide_type": "slide"
    }
   },
   "source": [
    "### Pandas"
   ]
  },
  {
   "cell_type": "code",
   "execution_count": 4,
   "metadata": {
    "collapsed": false,
    "slideshow": {
     "slide_type": "slide"
    }
   },
   "outputs": [
    {
     "data": {
      "text/html": [
       "\n",
       "        <iframe\n",
       "            width=\"1000\"\n",
       "            height=\"500\"\n",
       "            src=\"http://pandas.pydata.org\"\n",
       "            frameborder=\"0\"\n",
       "            allowfullscreen\n",
       "        ></iframe>\n",
       "        "
      ],
      "text/plain": [
       "<IPython.lib.display.IFrame at 0x10431d5f8>"
      ]
     },
     "execution_count": 4,
     "metadata": {},
     "output_type": "execute_result"
    }
   ],
   "source": [
    "IFrame('http://pandas.pydata.org', width=1000, height=500)"
   ]
  },
  {
   "cell_type": "markdown",
   "metadata": {
    "slideshow": {
     "slide_type": "notes"
    }
   },
   "source": [
    "Pandas was the package that really got me into using Python for work.\n",
    "It's an implementation of the Data Frame concept from R, but in Python.\n",
    "\n",
    "It builds on the NumPy package, which gives you arrays with highly optimized operations.\n",
    "Instead of using a loop (which is slow in Python), you can sum the array, add a scalar value to it, compare it to something... very quickly.\n",
    "\n",
    "Pandas adds **indexing** to that, and gives you two basic objects: the Series and the DataFrame.\n",
    "The Series is a single vector (or column), and the Data Frame is a number of columns.\n",
    "\n",
    "The Series and the Data Frame both have a _row index_.\n",
    "The Data Frame adds a _column index_.\n",
    "This is essentially your variable names, fields, etc.\n",
    "\n",
    "You can set any existing column as an index.\n",
    "\n",
    "Both indices can be **hierarchical**.\n",
    "You can then `stack` and `unstack` Data Frames - move columns from the row axis to the column axis.\n",
    "(i.e. pivot tables).\n",
    "\n",
    "I'm sure it will be old hat to the R and SQL people here,\n",
    "but the revelation for me (coming from Stata) was the realization that your initial data and your final results could stay in the same type of object. That lets you build exactly the tables you want."
   ]
  }
 ],
 "metadata": {
  "celltoolbar": "Slideshow",
  "kernelspec": {
   "display_name": "Python 3",
   "language": "python",
   "name": "python3"
  },
  "language_info": {
   "codemirror_mode": {
    "name": "ipython",
    "version": 3
   },
   "file_extension": ".py",
   "mimetype": "text/x-python",
   "name": "python",
   "nbconvert_exporter": "python",
   "pygments_lexer": "ipython3",
   "version": "3.5.1"
  }
 },
 "nbformat": 4,
 "nbformat_minor": 0
}
