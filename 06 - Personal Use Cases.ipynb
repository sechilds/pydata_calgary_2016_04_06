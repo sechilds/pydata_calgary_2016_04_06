{
 "cells": [
  {
   "cell_type": "code",
   "execution_count": null,
   "metadata": {
    "collapsed": true
   },
   "outputs": [],
   "source": [
    "from IPython.core.display import HTML\n",
    "css = open('style_table.css').read()\n",
    "HTML('<style>{}</style>'.format(css))"
   ]
  },
  {
   "cell_type": "code",
   "execution_count": 2,
   "metadata": {
    "collapsed": true
   },
   "outputs": [],
   "source": [
    "from IPython.display import IFrame"
   ]
  },
  {
   "cell_type": "markdown",
   "metadata": {},
   "source": [
    "### Personal Use Cases"
   ]
  },
  {
   "cell_type": "markdown",
   "metadata": {},
   "source": [
    "#### All About Me"
   ]
  },
  {
   "cell_type": "markdown",
   "metadata": {},
   "source": [
    "Now I get to do my favorite thing... talk about myself.\n",
    "\n",
    "I work for the University of Calgary as an Institutional Analyst.\n",
    "I am part of the Office of Institutional Analysis, and office that provides data so the university can make better decisions.\n",
    "\n",
    "Our target audience is mostly the Senior Leadership Team, but we do post some of our data publically.\n",
    "We also handle a large amount of government reporting."
   ]
  },
  {
   "cell_type": "markdown",
   "metadata": {},
   "source": [
    "Previously, I worked for the Education Policy Research Initiative (EPRI) - based at the University of Ottawa.\n",
    "EPRI conducts policy-relevent research into Education, typically using an _economics_ lens.\n",
    "Recent work linked PSE graduates to their tax data, to get at the earnings across different disciplines."
   ]
  },
  {
   "cell_type": "markdown",
   "metadata": {},
   "source": [
    "I earned a Master of Arts in Business Economics from Wilfrid Laurier university.\n",
    "I graduated with some experience doing empirical work with Stata\n",
    "After going to work for EPRI (originally MESA), I worked at Statistics Canada using Stata to analyze their survey data.\n",
    "Stata has some specific features designed specifically to work with Statistics Canada's survey data."
   ]
  },
  {
   "cell_type": "markdown",
   "metadata": {},
   "source": [
    "Because I worked on several related projects, I found myself maintaining a large codebase.\n",
    "We needed a way to start up a new project quickly, using existing transformations to the dataset."
   ]
  },
  {
   "cell_type": "markdown",
   "metadata": {},
   "source": [
    "I had a project that I wanted to work on at home and at the office, so I needed something that would sync my code back and forth. I first tried `rsync`, then I learned SVN and finally `git`. I brought git to EPRI to allow for collaboration between researchers. For a \"lab style\" research project, it's a very useful tool."
   ]
  },
  {
   "cell_type": "markdown",
   "metadata": {},
   "source": [
    "When we started to work with administrative data, rather than survey data, it became necessary to build more robust data cleaning workflows. Thi s is often referred to as an Extract-Transform-Load or ETL process. Stata could do that, but it's not that software's strength. Instead, we started using Python and the pandas framework."
   ]
  },
  {
   "cell_type": "markdown",
   "metadata": {},
   "source": [
    "At my current position, I use python to automate the creation of reports - as well as grab data directly from various databases the university maintains. Pandas manipulates the data and I use the statsmodels package to generate results.\n",
    "The combination of being able to run a SQL query and also manipulate the data using a full programming language is very powerful.\n",
    "The fact that its in Python makes it very expressive."
   ]
  },
  {
   "cell_type": "markdown",
   "metadata": {},
   "source": [
    "#### Any Volunteers?"
   ]
  }
 ],
 "metadata": {
  "celltoolbar": "Slideshow",
  "kernelspec": {
   "display_name": "Python 3",
   "language": "python",
   "name": "python3"
  },
  "language_info": {
   "codemirror_mode": {
    "name": "ipython",
    "version": 3
   },
   "file_extension": ".py",
   "mimetype": "text/x-python",
   "name": "python",
   "nbconvert_exporter": "python",
   "pygments_lexer": "ipython3",
   "version": "3.5.1"
  }
 },
 "nbformat": 4,
 "nbformat_minor": 0
}
