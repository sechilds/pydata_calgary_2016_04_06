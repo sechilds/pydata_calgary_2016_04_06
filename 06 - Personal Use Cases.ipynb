{
 "cells": [
  {
   "cell_type": "code",
   "execution_count": 1,
   "metadata": {
    "collapsed": false,
    "slideshow": {
     "slide_type": "skip"
    }
   },
   "outputs": [
    {
     "data": {
      "text/html": [
       "<style>body {\n",
       "\tmargin: 0;\n",
       "\tfont-family: Helvetica;\n",
       "}\n",
       "table.dataframe {\n",
       "\tborder-collapse: collapse;\n",
       "\tborder: none;\n",
       "}\n",
       "table.dataframe tr {\n",
       "\tborder: none;\n",
       "}\n",
       "table.dataframe td, table.dataframe th {\n",
       "\tmargin: 0;\n",
       "\tborder: 1px solid white;\n",
       "\tpadding-left: 0.25em;\n",
       "\tpadding-right: 0.25em;\n",
       "}\n",
       "table.dataframe th:not(:empty) {\n",
       "\tbackground-color: #fec;\n",
       "\ttext-align: left;\n",
       "\tfont-weight: normal;\n",
       "}\n",
       "table.dataframe tr:nth-child(2) th:empty {\n",
       "\tborder-left: none;\n",
       "\tborder-right: 1px dashed #888\n",
       "}\n",
       "table.dataframe td {\n",
       "\tborder: 2px solid #ccf;\n",
       "\tbackground-color: #f4f4ff;\n",
       "}\n",
       "</style>"
      ],
      "text/plain": [
       "<IPython.core.display.HTML object>"
      ]
     },
     "execution_count": 1,
     "metadata": {},
     "output_type": "execute_result"
    }
   ],
   "source": [
    "from IPython.core.display import HTML\n",
    "css = open('style_table.css').read()\n",
    "HTML('<style>{}</style>'.format(css))"
   ]
  },
  {
   "cell_type": "code",
   "execution_count": 3,
   "metadata": {
    "collapsed": true,
    "slideshow": {
     "slide_type": "skip"
    }
   },
   "outputs": [],
   "source": [
    "from IPython.display import IFrame"
   ]
  },
  {
   "cell_type": "markdown",
   "metadata": {
    "slideshow": {
     "slide_type": "slide"
    }
   },
   "source": [
    "### Personal Use Cases"
   ]
  },
  {
   "cell_type": "markdown",
   "metadata": {
    "slideshow": {
     "slide_type": "notes"
    }
   },
   "source": [
    "Now I get to do my favorite thing... talk about myself.\n",
    "\n",
    "I work for the University of Calgary as an Institutional Analyst.\n",
    "I am part of the Office of Institutional Analysis, and office that provides data so the university can make better decisions.\n",
    "\n",
    "Our target audience is mostly the Senior Leadership Team, but we do post some of our data publically.\n",
    "We also handle a large amount of government reporting."
   ]
  },
  {
   "cell_type": "markdown",
   "metadata": {
    "slideshow": {
     "slide_type": "slide"
    }
   },
   "source": [
    "#### All About Me"
   ]
  },
  {
   "cell_type": "markdown",
   "metadata": {
    "slideshow": {
     "slide_type": "fragment"
    }
   },
   "source": [
    "* Institutional Analyst at the University of Calgary"
   ]
  },
  {
   "cell_type": "markdown",
   "metadata": {
    "slideshow": {
     "slide_type": "fragment"
    }
   },
   "source": [
    "* Office of Institutional Analysis - provides data to support better decision making"
   ]
  },
  {
   "cell_type": "code",
   "execution_count": 9,
   "metadata": {
    "collapsed": false,
    "scrolled": false,
    "slideshow": {
     "slide_type": "slide"
    }
   },
   "outputs": [
    {
     "data": {
      "text/html": [
       "\n",
       "        <iframe\n",
       "            width=\"1000\"\n",
       "            height=\"500\"\n",
       "            src=\"http://oia.ucalgary.ca\"\n",
       "            frameborder=\"0\"\n",
       "            allowfullscreen\n",
       "        ></iframe>\n",
       "        "
      ],
      "text/plain": [
       "<IPython.lib.display.IFrame at 0x10442a4a8>"
      ]
     },
     "execution_count": 9,
     "metadata": {},
     "output_type": "execute_result"
    }
   ],
   "source": [
    "IFrame('http://oia.ucalgary.ca', width=1000, height=500)"
   ]
  },
  {
   "cell_type": "markdown",
   "metadata": {
    "slideshow": {
     "slide_type": "notes"
    }
   },
   "source": [
    "Previously, I worked for the Education Policy Research Initiative (EPRI) - based at the University of Ottawa.\n",
    "EPRI conducts policy-relevent research into Education, typically using an _economics_ lens.\n",
    "Recent work linked PSE graduates to their tax data, to get at the earnings across different disciplines."
   ]
  },
  {
   "cell_type": "markdown",
   "metadata": {
    "slideshow": {
     "slide_type": "slide"
    }
   },
   "source": [
    "* Used to work at the Education Policy Research Initiative (EPRI)\n",
    "* Most recently, worked on linking data on PSE graduates to tax data"
   ]
  },
  {
   "cell_type": "code",
   "execution_count": 7,
   "metadata": {
    "collapsed": false,
    "slideshow": {
     "slide_type": "slide"
    }
   },
   "outputs": [
    {
     "data": {
      "text/html": [
       "\n",
       "        <iframe\n",
       "            width=\"1000\"\n",
       "            height=\"500\"\n",
       "            src=\"http://epri.ca\"\n",
       "            frameborder=\"0\"\n",
       "            allowfullscreen\n",
       "        ></iframe>\n",
       "        "
      ],
      "text/plain": [
       "<IPython.lib.display.IFrame at 0x10442a4e0>"
      ]
     },
     "execution_count": 7,
     "metadata": {},
     "output_type": "execute_result"
    }
   ],
   "source": [
    "IFrame('http://epri.ca', width=1000, height=500)"
   ]
  },
  {
   "cell_type": "code",
   "execution_count": 8,
   "metadata": {
    "collapsed": false,
    "slideshow": {
     "slide_type": "slide"
    }
   },
   "outputs": [
    {
     "data": {
      "text/html": [
       "\n",
       "        <iframe\n",
       "            width=\"1000\"\n",
       "            height=\"500\"\n",
       "            src=\"http://www.epri.ca/uottawa-tax-linkage-project\"\n",
       "            frameborder=\"0\"\n",
       "            allowfullscreen\n",
       "        ></iframe>\n",
       "        "
      ],
      "text/plain": [
       "<IPython.lib.display.IFrame at 0x10442a518>"
      ]
     },
     "execution_count": 8,
     "metadata": {},
     "output_type": "execute_result"
    }
   ],
   "source": [
    "IFrame('http://www.epri.ca/uottawa-tax-linkage-project', width=1000, height=500)"
   ]
  },
  {
   "cell_type": "markdown",
   "metadata": {
    "slideshow": {
     "slide_type": "slide"
    }
   },
   "source": [
    "* Master of Arts in Business Economics from Wilfrid Laurier University"
   ]
  },
  {
   "cell_type": "markdown",
   "metadata": {
    "slideshow": {
     "slide_type": "fragment"
    }
   },
   "source": [
    "* Used Stata for classes and my MRP"
   ]
  },
  {
   "cell_type": "markdown",
   "metadata": {
    "slideshow": {
     "slide_type": "fragment"
    }
   },
   "source": [
    "* EPRI was a Stata shop - used Stata at Statistics Canada"
   ]
  },
  {
   "cell_type": "markdown",
   "metadata": {
    "slideshow": {
     "slide_type": "notes"
    }
   },
   "source": [
    "I earned a Master of Arts in Business Economics from Wilfrid Laurier university.\n",
    "I graduated with some experience doing empirical work with Stata\n",
    "After going to work for EPRI (originally MESA), I worked at Statistics Canada using Stata to analyze their survey data.\n",
    "Stata has some specific features designed specifically to work with Statistics Canada's survey data."
   ]
  },
  {
   "cell_type": "markdown",
   "metadata": {
    "slideshow": {
     "slide_type": "slide"
    }
   },
   "source": [
    "* Multiple projects sharing the same code"
   ]
  },
  {
   "cell_type": "markdown",
   "metadata": {
    "slideshow": {
     "slide_type": "notes"
    }
   },
   "source": [
    "Because I worked on several related projects, I found myself maintaining a large codebase.\n",
    "We needed a way to start up a new project quickly, using existing transformations to the dataset."
   ]
  },
  {
   "cell_type": "markdown",
   "metadata": {
    "slideshow": {
     "slide_type": "fragment"
    }
   },
   "source": [
    "* Projects I wanted to work on in multiple places"
   ]
  },
  {
   "cell_type": "markdown",
   "metadata": {
    "slideshow": {
     "slide_type": "notes"
    }
   },
   "source": [
    "I had a project that I wanted to work on at home and at the office, so I needed something that would sync my code back and forth. I first tried `rsync`, then I learned SVN and finally `git`. I brought git to EPRI to allow for collaboration between researchers. For a \"lab style\" research project, it's a very useful tool."
   ]
  },
  {
   "cell_type": "markdown",
   "metadata": {
    "slideshow": {
     "slide_type": "fragment"
    }
   },
   "source": [
    "* Used version control (`git`) to keep everything in sync."
   ]
  },
  {
   "cell_type": "markdown",
   "metadata": {
    "slideshow": {
     "slide_type": "slide"
    }
   },
   "source": [
    "* Shift from survey data to administrative data"
   ]
  },
  {
   "cell_type": "markdown",
   "metadata": {
    "slideshow": {
     "slide_type": "fragment"
    }
   },
   "source": [
    "* Requires a more robust data cleaning workflow"
   ]
  },
  {
   "cell_type": "markdown",
   "metadata": {
    "slideshow": {
     "slide_type": "notes"
    }
   },
   "source": [
    "When we started to work with administrative data, rather than survey data, it became necessary to build more robust data cleaning workflows. Thi s is often referred to as an Extract-Transform-Load or ETL process. Stata could do that, but it's not that software's strength. Instead, we started using Python and the pandas framework."
   ]
  },
  {
   "cell_type": "markdown",
   "metadata": {
    "slideshow": {
     "slide_type": "fragment"
    }
   },
   "source": [
    "* Switched from Stata to Python and Pandas for cleaning data."
   ]
  },
  {
   "cell_type": "markdown",
   "metadata": {
    "slideshow": {
     "slide_type": "fragment"
    }
   },
   "source": [
    "* Now I use Pandas to directly query databases and work with data."
   ]
  },
  {
   "cell_type": "markdown",
   "metadata": {
    "slideshow": {
     "slide_type": "notes"
    }
   },
   "source": [
    "At my current position, I use python to automate the creation of reports - as well as grab data directly from various databases the university maintains. Pandas manipulates the data and I use the statsmodels package to generate results.\n",
    "The combination of being able to run a SQL query and also manipulate the data using a full programming language is very powerful.\n",
    "The fact that its in Python makes it very expressive."
   ]
  },
  {
   "cell_type": "markdown",
   "metadata": {
    "slideshow": {
     "slide_type": "slide"
    }
   },
   "source": [
    "#### Any Volunteers?"
   ]
  }
 ],
 "metadata": {
  "celltoolbar": "Slideshow",
  "kernelspec": {
   "display_name": "Python 3",
   "language": "python",
   "name": "python3"
  },
  "language_info": {
   "codemirror_mode": {
    "name": "ipython",
    "version": 3
   },
   "file_extension": ".py",
   "mimetype": "text/x-python",
   "name": "python",
   "nbconvert_exporter": "python",
   "pygments_lexer": "ipython3",
   "version": "3.5.1"
  }
 },
 "nbformat": 4,
 "nbformat_minor": 0
}
