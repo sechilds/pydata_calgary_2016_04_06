{
 "cells": [
  {
   "cell_type": "code",
   "execution_count": 1,
   "metadata": {
    "collapsed": false,
    "slideshow": {
     "slide_type": "skip"
    }
   },
   "outputs": [
    {
     "data": {
      "text/html": [
       "<style>body {\n",
       "\tmargin: 0;\n",
       "\tfont-family: Helvetica;\n",
       "}\n",
       "table.dataframe {\n",
       "\tborder-collapse: collapse;\n",
       "\tborder: none;\n",
       "}\n",
       "table.dataframe tr {\n",
       "\tborder: none;\n",
       "}\n",
       "table.dataframe td, table.dataframe th {\n",
       "\tmargin: 0;\n",
       "\tborder: 1px solid white;\n",
       "\tpadding-left: 0.25em;\n",
       "\tpadding-right: 0.25em;\n",
       "}\n",
       "table.dataframe th:not(:empty) {\n",
       "\tbackground-color: #fec;\n",
       "\ttext-align: left;\n",
       "\tfont-weight: normal;\n",
       "}\n",
       "table.dataframe tr:nth-child(2) th:empty {\n",
       "\tborder-left: none;\n",
       "\tborder-right: 1px dashed #888\n",
       "}\n",
       "table.dataframe td {\n",
       "\tborder: 2px solid #ccf;\n",
       "\tbackground-color: #f4f4ff;\n",
       "}\n",
       "</style>"
      ],
      "text/plain": [
       "<IPython.core.display.HTML object>"
      ]
     },
     "execution_count": 1,
     "metadata": {},
     "output_type": "execute_result"
    }
   ],
   "source": [
    "from IPython.core.display import HTML\n",
    "css = open('style_table.css').read()\n",
    "HTML('<style>{}</style>'.format(css))"
   ]
  },
  {
   "cell_type": "markdown",
   "metadata": {
    "slideshow": {
     "slide_type": "slide"
    }
   },
   "source": [
    "# Statsmodels"
   ]
  },
  {
   "cell_type": "code",
   "execution_count": 2,
   "metadata": {
    "collapsed": true,
    "slideshow": {
     "slide_type": "skip"
    }
   },
   "outputs": [],
   "source": [
    "import statsmodels.api as sm\n",
    "\n",
    "_ = sm.datasets.get_rdataset(\"Guerry\", \"HistData\", cache=\".cache\")\n",
    "_ = sm.datasets.get_rdataset(\"Duncan\", \"car\", cache=\".cache\")\n",
    "_ = sm.datasets.get_rdataset(\"Arthritis\", \"vcd\", cache=\".cache\")"
   ]
  },
  {
   "cell_type": "code",
   "execution_count": 3,
   "metadata": {
    "collapsed": false,
    "slideshow": {
     "slide_type": "skip"
    }
   },
   "outputs": [],
   "source": [
    "import numpy as np\n",
    "import pandas as pd\n",
    "import matplotlib.pyplot as plt\n",
    "import patsy\n",
    "import seaborn as sns\n",
    "sns.set(color_codes=True)"
   ]
  },
  {
   "cell_type": "code",
   "execution_count": 4,
   "metadata": {
    "collapsed": true,
    "slideshow": {
     "slide_type": "skip"
    }
   },
   "outputs": [],
   "source": [
    "%matplotlib inline"
   ]
  },
  {
   "cell_type": "code",
   "execution_count": 5,
   "metadata": {
    "collapsed": true,
    "slideshow": {
     "slide_type": "skip"
    }
   },
   "outputs": [],
   "source": [
    "pd.set_option('mode.chained_assignment', None)"
   ]
  },
  {
   "cell_type": "markdown",
   "metadata": {
    "slideshow": {
     "slide_type": "slide"
    }
   },
   "source": [
    "First we will load up a historical dataset on French Departments."
   ]
  },
  {
   "cell_type": "code",
   "execution_count": 6,
   "metadata": {
    "collapsed": true,
    "slideshow": {
     "slide_type": "fragment"
    }
   },
   "outputs": [],
   "source": [
    "dta = sm.datasets.get_rdataset(\"Guerry\", \"HistData\", cache=\".cache\")                               "
   ]
  },
  {
   "cell_type": "code",
   "execution_count": 7,
   "metadata": {
    "collapsed": false,
    "slideshow": {
     "slide_type": "subslide"
    }
   },
   "outputs": [
    {
     "data": {
      "text/html": [
       "<div>\n",
       "<table border=\"1\" class=\"dataframe\">\n",
       "  <thead>\n",
       "    <tr style=\"text-align: right;\">\n",
       "      <th></th>\n",
       "      <th>dept</th>\n",
       "      <th>Region</th>\n",
       "      <th>Department</th>\n",
       "      <th>Crime_pers</th>\n",
       "      <th>Crime_prop</th>\n",
       "      <th>Literacy</th>\n",
       "      <th>Donations</th>\n",
       "      <th>Infants</th>\n",
       "      <th>Suicides</th>\n",
       "      <th>MainCity</th>\n",
       "      <th>...</th>\n",
       "      <th>Crime_parents</th>\n",
       "      <th>Infanticide</th>\n",
       "      <th>Donation_clergy</th>\n",
       "      <th>Lottery</th>\n",
       "      <th>Desertion</th>\n",
       "      <th>Instruction</th>\n",
       "      <th>Prostitutes</th>\n",
       "      <th>Distance</th>\n",
       "      <th>Area</th>\n",
       "      <th>Pop1831</th>\n",
       "    </tr>\n",
       "  </thead>\n",
       "  <tbody>\n",
       "    <tr>\n",
       "      <th>0</th>\n",
       "      <td>1</td>\n",
       "      <td>E</td>\n",
       "      <td>Ain</td>\n",
       "      <td>28870</td>\n",
       "      <td>15890</td>\n",
       "      <td>37</td>\n",
       "      <td>5098</td>\n",
       "      <td>33120</td>\n",
       "      <td>35039</td>\n",
       "      <td>2:Med</td>\n",
       "      <td>...</td>\n",
       "      <td>71</td>\n",
       "      <td>60</td>\n",
       "      <td>69</td>\n",
       "      <td>41</td>\n",
       "      <td>55</td>\n",
       "      <td>46</td>\n",
       "      <td>13</td>\n",
       "      <td>218.372</td>\n",
       "      <td>5762</td>\n",
       "      <td>346.03</td>\n",
       "    </tr>\n",
       "    <tr>\n",
       "      <th>1</th>\n",
       "      <td>2</td>\n",
       "      <td>N</td>\n",
       "      <td>Aisne</td>\n",
       "      <td>26226</td>\n",
       "      <td>5521</td>\n",
       "      <td>51</td>\n",
       "      <td>8901</td>\n",
       "      <td>14572</td>\n",
       "      <td>12831</td>\n",
       "      <td>2:Med</td>\n",
       "      <td>...</td>\n",
       "      <td>4</td>\n",
       "      <td>82</td>\n",
       "      <td>36</td>\n",
       "      <td>38</td>\n",
       "      <td>82</td>\n",
       "      <td>24</td>\n",
       "      <td>327</td>\n",
       "      <td>65.945</td>\n",
       "      <td>7369</td>\n",
       "      <td>513.00</td>\n",
       "    </tr>\n",
       "    <tr>\n",
       "      <th>2</th>\n",
       "      <td>3</td>\n",
       "      <td>C</td>\n",
       "      <td>Allier</td>\n",
       "      <td>26747</td>\n",
       "      <td>7925</td>\n",
       "      <td>13</td>\n",
       "      <td>10973</td>\n",
       "      <td>17044</td>\n",
       "      <td>114121</td>\n",
       "      <td>2:Med</td>\n",
       "      <td>...</td>\n",
       "      <td>46</td>\n",
       "      <td>42</td>\n",
       "      <td>76</td>\n",
       "      <td>66</td>\n",
       "      <td>16</td>\n",
       "      <td>85</td>\n",
       "      <td>34</td>\n",
       "      <td>161.927</td>\n",
       "      <td>7340</td>\n",
       "      <td>298.26</td>\n",
       "    </tr>\n",
       "    <tr>\n",
       "      <th>3</th>\n",
       "      <td>4</td>\n",
       "      <td>E</td>\n",
       "      <td>Basses-Alpes</td>\n",
       "      <td>12935</td>\n",
       "      <td>7289</td>\n",
       "      <td>46</td>\n",
       "      <td>2733</td>\n",
       "      <td>23018</td>\n",
       "      <td>14238</td>\n",
       "      <td>1:Sm</td>\n",
       "      <td>...</td>\n",
       "      <td>70</td>\n",
       "      <td>12</td>\n",
       "      <td>37</td>\n",
       "      <td>80</td>\n",
       "      <td>32</td>\n",
       "      <td>29</td>\n",
       "      <td>2</td>\n",
       "      <td>351.399</td>\n",
       "      <td>6925</td>\n",
       "      <td>155.90</td>\n",
       "    </tr>\n",
       "    <tr>\n",
       "      <th>4</th>\n",
       "      <td>5</td>\n",
       "      <td>E</td>\n",
       "      <td>Hautes-Alpes</td>\n",
       "      <td>17488</td>\n",
       "      <td>8174</td>\n",
       "      <td>69</td>\n",
       "      <td>6962</td>\n",
       "      <td>23076</td>\n",
       "      <td>16171</td>\n",
       "      <td>1:Sm</td>\n",
       "      <td>...</td>\n",
       "      <td>22</td>\n",
       "      <td>23</td>\n",
       "      <td>64</td>\n",
       "      <td>79</td>\n",
       "      <td>35</td>\n",
       "      <td>7</td>\n",
       "      <td>1</td>\n",
       "      <td>320.280</td>\n",
       "      <td>5549</td>\n",
       "      <td>129.10</td>\n",
       "    </tr>\n",
       "  </tbody>\n",
       "</table>\n",
       "<p>5 rows × 23 columns</p>\n",
       "</div>"
      ],
      "text/plain": [
       "   dept Region    Department  Crime_pers  Crime_prop  Literacy  Donations  \\\n",
       "0     1      E           Ain       28870       15890        37       5098   \n",
       "1     2      N         Aisne       26226        5521        51       8901   \n",
       "2     3      C        Allier       26747        7925        13      10973   \n",
       "3     4      E  Basses-Alpes       12935        7289        46       2733   \n",
       "4     5      E  Hautes-Alpes       17488        8174        69       6962   \n",
       "\n",
       "   Infants  Suicides MainCity   ...     Crime_parents  Infanticide  \\\n",
       "0    33120     35039    2:Med   ...                71           60   \n",
       "1    14572     12831    2:Med   ...                 4           82   \n",
       "2    17044    114121    2:Med   ...                46           42   \n",
       "3    23018     14238     1:Sm   ...                70           12   \n",
       "4    23076     16171     1:Sm   ...                22           23   \n",
       "\n",
       "   Donation_clergy  Lottery  Desertion  Instruction  Prostitutes  Distance  \\\n",
       "0               69       41         55           46           13   218.372   \n",
       "1               36       38         82           24          327    65.945   \n",
       "2               76       66         16           85           34   161.927   \n",
       "3               37       80         32           29            2   351.399   \n",
       "4               64       79         35            7            1   320.280   \n",
       "\n",
       "   Area  Pop1831  \n",
       "0  5762   346.03  \n",
       "1  7369   513.00  \n",
       "2  7340   298.26  \n",
       "3  6925   155.90  \n",
       "4  5549   129.10  \n",
       "\n",
       "[5 rows x 23 columns]"
      ]
     },
     "execution_count": 7,
     "metadata": {},
     "output_type": "execute_result"
    }
   ],
   "source": [
    "dta.data.head()"
   ]
  },
  {
   "cell_type": "markdown",
   "metadata": {
    "slideshow": {
     "slide_type": "slide"
    }
   },
   "source": [
    "We want to get the log of the population, so we create a new column in the data."
   ]
  },
  {
   "cell_type": "code",
   "execution_count": 8,
   "metadata": {
    "collapsed": true,
    "slideshow": {
     "slide_type": "fragment"
    }
   },
   "outputs": [],
   "source": [
    "df = dta.data"
   ]
  },
  {
   "cell_type": "code",
   "execution_count": 9,
   "metadata": {
    "collapsed": true,
    "slideshow": {
     "slide_type": "fragment"
    }
   },
   "outputs": [],
   "source": [
    "df['log_pop1831'] = df['Pop1831'].apply(np.log)"
   ]
  },
  {
   "cell_type": "markdown",
   "metadata": {
    "slideshow": {
     "slide_type": "slide"
    }
   },
   "source": [
    "We specify the model using an R-like notation.\n",
    "This is provided by the `patsy` package.\n",
    "\n",
    "The model specification actually generates two **design matricies** that will go into the model.\n",
    "\n",
    "The model is a python object, and calling it's `fit()` method returns a results object."
   ]
  },
  {
   "cell_type": "code",
   "execution_count": 10,
   "metadata": {
    "collapsed": false,
    "slideshow": {
     "slide_type": "fragment"
    }
   },
   "outputs": [],
   "source": [
    "ols_model = sm.formula.ols(\"Lottery ~ Literacy + log_pop1831\", data=df)"
   ]
  },
  {
   "cell_type": "code",
   "execution_count": 11,
   "metadata": {
    "collapsed": true,
    "slideshow": {
     "slide_type": "fragment"
    }
   },
   "outputs": [],
   "source": [
    "results = ols_model.fit()"
   ]
  },
  {
   "cell_type": "code",
   "execution_count": 12,
   "metadata": {
    "collapsed": false,
    "slideshow": {
     "slide_type": "subslide"
    }
   },
   "outputs": [
    {
     "data": {
      "text/html": [
       "<table class=\"simpletable\">\n",
       "<caption>OLS Regression Results</caption>\n",
       "<tr>\n",
       "  <th>Dep. Variable:</th>         <td>Lottery</td>     <th>  R-squared:         </th> <td>   0.348</td>\n",
       "</tr>\n",
       "<tr>\n",
       "  <th>Model:</th>                   <td>OLS</td>       <th>  Adj. R-squared:    </th> <td>   0.333</td>\n",
       "</tr>\n",
       "<tr>\n",
       "  <th>Method:</th>             <td>Least Squares</td>  <th>  F-statistic:       </th> <td>   22.20</td>\n",
       "</tr>\n",
       "<tr>\n",
       "  <th>Date:</th>             <td>Tue, 05 Apr 2016</td> <th>  Prob (F-statistic):</th> <td>1.90e-08</td>\n",
       "</tr>\n",
       "<tr>\n",
       "  <th>Time:</th>                 <td>09:43:08</td>     <th>  Log-Likelihood:    </th> <td> -379.82</td>\n",
       "</tr>\n",
       "<tr>\n",
       "  <th>No. Observations:</th>      <td>    86</td>      <th>  AIC:               </th> <td>   765.6</td>\n",
       "</tr>\n",
       "<tr>\n",
       "  <th>Df Residuals:</th>          <td>    83</td>      <th>  BIC:               </th> <td>   773.0</td>\n",
       "</tr>\n",
       "<tr>\n",
       "  <th>Df Model:</th>              <td>     2</td>      <th>                     </th>     <td> </td>   \n",
       "</tr>\n",
       "<tr>\n",
       "  <th>Covariance Type:</th>      <td>nonrobust</td>    <th>                     </th>     <td> </td>   \n",
       "</tr>\n",
       "</table>\n",
       "<table class=\"simpletable\">\n",
       "<tr>\n",
       "       <td></td>          <th>coef</th>     <th>std err</th>      <th>t</th>      <th>P>|t|</th> <th>[95.0% Conf. Int.]</th> \n",
       "</tr>\n",
       "<tr>\n",
       "  <th>Intercept</th>   <td>  246.4341</td> <td>   35.233</td> <td>    6.995</td> <td> 0.000</td> <td>  176.358   316.510</td>\n",
       "</tr>\n",
       "<tr>\n",
       "  <th>Literacy</th>    <td>   -0.4889</td> <td>    0.128</td> <td>   -3.832</td> <td> 0.000</td> <td>   -0.743    -0.235</td>\n",
       "</tr>\n",
       "<tr>\n",
       "  <th>log_pop1831</th> <td>  -31.3114</td> <td>    5.977</td> <td>   -5.239</td> <td> 0.000</td> <td>  -43.199   -19.424</td>\n",
       "</tr>\n",
       "</table>\n",
       "<table class=\"simpletable\">\n",
       "<tr>\n",
       "  <th>Omnibus:</th>       <td> 3.713</td> <th>  Durbin-Watson:     </th> <td>   2.019</td>\n",
       "</tr>\n",
       "<tr>\n",
       "  <th>Prob(Omnibus):</th> <td> 0.156</td> <th>  Jarque-Bera (JB):  </th> <td>   3.394</td>\n",
       "</tr>\n",
       "<tr>\n",
       "  <th>Skew:</th>          <td>-0.487</td> <th>  Prob(JB):          </th> <td>   0.183</td>\n",
       "</tr>\n",
       "<tr>\n",
       "  <th>Kurtosis:</th>      <td> 3.003</td> <th>  Cond. No.          </th> <td>    702.</td>\n",
       "</tr>\n",
       "</table>"
      ],
      "text/plain": [
       "<class 'statsmodels.iolib.summary.Summary'>\n",
       "\"\"\"\n",
       "                            OLS Regression Results                            \n",
       "==============================================================================\n",
       "Dep. Variable:                Lottery   R-squared:                       0.348\n",
       "Model:                            OLS   Adj. R-squared:                  0.333\n",
       "Method:                 Least Squares   F-statistic:                     22.20\n",
       "Date:                Tue, 05 Apr 2016   Prob (F-statistic):           1.90e-08\n",
       "Time:                        09:43:08   Log-Likelihood:                -379.82\n",
       "No. Observations:                  86   AIC:                             765.6\n",
       "Df Residuals:                      83   BIC:                             773.0\n",
       "Df Model:                           2                                         \n",
       "Covariance Type:            nonrobust                                         \n",
       "===============================================================================\n",
       "                  coef    std err          t      P>|t|      [95.0% Conf. Int.]\n",
       "-------------------------------------------------------------------------------\n",
       "Intercept     246.4341     35.233      6.995      0.000       176.358   316.510\n",
       "Literacy       -0.4889      0.128     -3.832      0.000        -0.743    -0.235\n",
       "log_pop1831   -31.3114      5.977     -5.239      0.000       -43.199   -19.424\n",
       "==============================================================================\n",
       "Omnibus:                        3.713   Durbin-Watson:                   2.019\n",
       "Prob(Omnibus):                  0.156   Jarque-Bera (JB):                3.394\n",
       "Skew:                          -0.487   Prob(JB):                        0.183\n",
       "Kurtosis:                       3.003   Cond. No.                         702.\n",
       "==============================================================================\n",
       "\n",
       "Warnings:\n",
       "[1] Standard Errors assume that the covariance matrix of the errors is correctly specified.\n",
       "\"\"\""
      ]
     },
     "execution_count": 12,
     "metadata": {},
     "output_type": "execute_result"
    }
   ],
   "source": [
    "results.summary()"
   ]
  },
  {
   "cell_type": "markdown",
   "metadata": {
    "slideshow": {
     "slide_type": "subslide"
    }
   },
   "source": [
    "You can get parts of the results by getting various properties of the results object.\n",
    "The following return Pandas Series objects."
   ]
  },
  {
   "cell_type": "code",
   "execution_count": 13,
   "metadata": {
    "collapsed": false,
    "slideshow": {
     "slide_type": "fragment"
    }
   },
   "outputs": [
    {
     "data": {
      "text/plain": [
       "Intercept      246.434135\n",
       "Literacy        -0.488923\n",
       "log_pop1831    -31.311392\n",
       "dtype: float64"
      ]
     },
     "execution_count": 13,
     "metadata": {},
     "output_type": "execute_result"
    }
   ],
   "source": [
    "results.params"
   ]
  },
  {
   "cell_type": "code",
   "execution_count": 14,
   "metadata": {
    "collapsed": false,
    "slideshow": {
     "slide_type": "fragment"
    }
   },
   "outputs": [
    {
     "data": {
      "text/plain": [
       "Intercept      6.994511\n",
       "Literacy      -3.832038\n",
       "log_pop1831   -5.238842\n",
       "dtype: float64"
      ]
     },
     "execution_count": 14,
     "metadata": {},
     "output_type": "execute_result"
    }
   ],
   "source": [
    "results.tvalues"
   ]
  },
  {
   "cell_type": "code",
   "execution_count": 15,
   "metadata": {
    "collapsed": false,
    "slideshow": {
     "slide_type": "subslide"
    }
   },
   "outputs": [
    {
     "data": {
      "text/plain": [
       "Intercept      6.260771e-10\n",
       "Literacy       2.462102e-04\n",
       "log_pop1831    1.202925e-06\n",
       "dtype: float64"
      ]
     },
     "execution_count": 15,
     "metadata": {},
     "output_type": "execute_result"
    }
   ],
   "source": [
    "results.pvalues"
   ]
  },
  {
   "cell_type": "code",
   "execution_count": 16,
   "metadata": {
    "collapsed": false,
    "slideshow": {
     "slide_type": "fragment"
    }
   },
   "outputs": [
    {
     "data": {
      "text/plain": [
       "pandas.core.series.Series"
      ]
     },
     "execution_count": 16,
     "metadata": {},
     "output_type": "execute_result"
    }
   ],
   "source": [
    "type(results.params)"
   ]
  },
  {
   "cell_type": "code",
   "execution_count": 17,
   "metadata": {
    "collapsed": false,
    "slideshow": {
     "slide_type": "slide"
    }
   },
   "outputs": [
    {
     "data": {
      "text/plain": [
       "array([ 45.28111552,  26.10731517,  61.66689491,  65.84571262,\n",
       "        60.50666251,  50.65364442,  36.18545491,  64.36053682,\n",
       "        45.16226913,  54.50128015,  47.05726094,  43.59906372,\n",
       "        26.75575698,  57.33509109,  44.31149942,  36.4093396 ,\n",
       "        66.44356669,  62.5179869 ,  31.445032  ,  38.37361199,\n",
       "        60.4349197 ,  44.14479871,  35.96987559,  47.35193753,\n",
       "        32.05500621,  43.73139604,  43.02036876,  42.80379617,\n",
       "        41.5681693 ,  48.01756606,  29.0649797 ,  41.34530592,\n",
       "        36.80711795,  65.8333425 ,  54.95241358,  34.66823101,\n",
       "        30.8711604 ,  56.14387953,  62.18620796,  45.34919918,\n",
       "        58.41110071,  42.04335068,  46.75969329,  57.84147286,\n",
       "        48.13693343,  78.42531729,  42.68049242,  25.57205184,\n",
       "        33.38962699,  38.36831808,  53.49369591,  24.39057162,\n",
       "        30.17352354,  49.46837681,  29.66117011,  59.94201695,\n",
       "         8.45773319,  32.60937127,  33.71368948,  19.4234143 ,\n",
       "        38.28350577,  33.70590127,  49.83755855,  72.94944268,\n",
       "        19.11091862,  22.27579943,  34.24609352,  35.17579164,\n",
       "        34.73435572,  39.96872771,  -2.47014786,  20.57096245,\n",
       "        39.03977407,  27.89226927,  48.02011015,  27.70990542,\n",
       "        54.71575446,  62.27884968,  54.82031562,  56.85386179,\n",
       "        51.13247489,  57.47413433,  63.07654546,  28.67752189,\n",
       "        39.81272132,  57.30616412])"
      ]
     },
     "execution_count": 17,
     "metadata": {},
     "output_type": "execute_result"
    }
   ],
   "source": [
    "Y, X = patsy.dmatrices(\"Lottery ~ Literacy + log_pop1831\", df, return_type='dataframe')\n",
    "results.predict(X)"
   ]
  },
  {
   "cell_type": "code",
   "execution_count": 18,
   "metadata": {
    "collapsed": false,
    "slideshow": {
     "slide_type": "skip"
    }
   },
   "outputs": [],
   "source": [
    "from mpl_toolkits.mplot3d import Axes3D\n",
    "\n",
    "def axis_plot(df):\n",
    "    ## Create the 3d plot -- skip reading this\n",
    "    # Literacy and Population grid for 3d plot\n",
    "    literacy_min = df.Literacy.min()\n",
    "    literacy_max = df.Literacy.max()\n",
    "    pop_min = df.log_pop1831.min()\n",
    "    pop_max = df.log_pop1831.max()\n",
    "\n",
    "    xx1, xx2 = np.meshgrid(np.linspace(literacy_min, literacy_max, 100), \n",
    "                           np.linspace(pop_min, pop_max, 100))\n",
    "    # plot the hyperplane by evaluating the parameters on the grid\n",
    "    Z = results.params[0] + results.params[1] * xx1 + results.params[2] * xx2\n",
    "\n",
    "    # create matplotlib 3d axes\n",
    "    fig = plt.figure(figsize=(12, 8))\n",
    "    ax = Axes3D(fig, azim=-115, elev=15)\n",
    "\n",
    "    # plot hyperplane\n",
    "    surf = ax.plot_surface(xx1, xx2, Z, cmap=plt.cm.RdBu_r, alpha=0.6, linewidth=0)\n",
    "\n",
    "    # plot data points - points over the HP are white, points below are black\n",
    "    Y, X = patsy.dmatrices(\"Lottery ~ Literacy + log_pop1831\", df, return_type='dataframe')\n",
    "    resid = Y.as_matrix() - results.predict(X)\n",
    "    ax.scatter(X[resid >= 0].Literacy, X[resid >= 0].log_pop1831, Y[resid >= 0], color='black', alpha=1.0, facecolor='white')\n",
    "    ax.scatter(X[resid < 0].Literacy, X[resid < 0].log_pop1831, Y[resid < 0], color='black', alpha=1.0)\n",
    "\n",
    "    # set axis labels\n",
    "    ax.set_xlabel('Literacy')\n",
    "    ax.set_ylabel('Log Population')\n",
    "    ax.set_zlabel('Lottery')"
   ]
  },
  {
   "cell_type": "code",
   "execution_count": 19,
   "metadata": {
    "collapsed": false,
    "slideshow": {
     "slide_type": "slide"
    }
   },
   "outputs": [
    {
     "data": {
      "image/png": "[encoded data removed]",
      "text/plain": [
       "<matplotlib.figure.Figure at 0x117b6dbe0>"
      ]
     },
     "metadata": {},
     "output_type": "display_data"
    }
   ],
   "source": [
    "axis_plot(df)"
   ]
  },
  {
   "cell_type": "code",
   "execution_count": 20,
   "metadata": {
    "collapsed": true,
    "slideshow": {
     "slide_type": "slide"
    }
   },
   "outputs": [],
   "source": [
    "dta = sm.datasets.get_rdataset(\"Arthritis\", \"vcd\", cache=\".cache\")"
   ]
  },
  {
   "cell_type": "code",
   "execution_count": 21,
   "metadata": {
    "collapsed": false,
    "slideshow": {
     "slide_type": "slide"
    }
   },
   "outputs": [
    {
     "data": {
      "text/plain": [
       "None      42\n",
       "Marked    28\n",
       "Some      14\n",
       "Name: Improved, dtype: int64"
      ]
     },
     "execution_count": 21,
     "metadata": {},
     "output_type": "execute_result"
    }
   ],
   "source": [
    "dta.data.Improved.value_counts()"
   ]
  },
  {
   "cell_type": "code",
   "execution_count": 22,
   "metadata": {
    "collapsed": true,
    "slideshow": {
     "slide_type": "slide"
    }
   },
   "outputs": [],
   "source": [
    "df2 = dta.data"
   ]
  },
  {
   "cell_type": "code",
   "execution_count": 23,
   "metadata": {
    "collapsed": true,
    "slideshow": {
     "slide_type": "fragment"
    }
   },
   "outputs": [],
   "source": [
    "df2['B_Improved'] = df2['Improved'].map({'Some': True,\n",
    "                                         'Marked': True,\n",
    "                                         'None': False\n",
    "                                        })"
   ]
  },
  {
   "cell_type": "code",
   "execution_count": 24,
   "metadata": {
    "collapsed": false,
    "slideshow": {
     "slide_type": "slide"
    }
   },
   "outputs": [
    {
     "data": {
      "text/html": [
       "<div>\n",
       "<table border=\"1\" class=\"dataframe\">\n",
       "  <thead>\n",
       "    <tr style=\"text-align: right;\">\n",
       "      <th></th>\n",
       "      <th>ID</th>\n",
       "      <th>Treatment</th>\n",
       "      <th>Sex</th>\n",
       "      <th>Age</th>\n",
       "      <th>Improved</th>\n",
       "      <th>B_Improved</th>\n",
       "    </tr>\n",
       "  </thead>\n",
       "  <tbody>\n",
       "    <tr>\n",
       "      <th>0</th>\n",
       "      <td>57</td>\n",
       "      <td>Treated</td>\n",
       "      <td>Male</td>\n",
       "      <td>27</td>\n",
       "      <td>Some</td>\n",
       "      <td>True</td>\n",
       "    </tr>\n",
       "    <tr>\n",
       "      <th>1</th>\n",
       "      <td>46</td>\n",
       "      <td>Treated</td>\n",
       "      <td>Male</td>\n",
       "      <td>29</td>\n",
       "      <td>None</td>\n",
       "      <td>False</td>\n",
       "    </tr>\n",
       "    <tr>\n",
       "      <th>2</th>\n",
       "      <td>77</td>\n",
       "      <td>Treated</td>\n",
       "      <td>Male</td>\n",
       "      <td>30</td>\n",
       "      <td>None</td>\n",
       "      <td>False</td>\n",
       "    </tr>\n",
       "    <tr>\n",
       "      <th>3</th>\n",
       "      <td>17</td>\n",
       "      <td>Treated</td>\n",
       "      <td>Male</td>\n",
       "      <td>32</td>\n",
       "      <td>Marked</td>\n",
       "      <td>True</td>\n",
       "    </tr>\n",
       "    <tr>\n",
       "      <th>4</th>\n",
       "      <td>36</td>\n",
       "      <td>Treated</td>\n",
       "      <td>Male</td>\n",
       "      <td>46</td>\n",
       "      <td>Marked</td>\n",
       "      <td>True</td>\n",
       "    </tr>\n",
       "  </tbody>\n",
       "</table>\n",
       "</div>"
      ],
      "text/plain": [
       "   ID Treatment   Sex  Age Improved B_Improved\n",
       "0  57   Treated  Male   27     Some       True\n",
       "1  46   Treated  Male   29     None      False\n",
       "2  77   Treated  Male   30     None      False\n",
       "3  17   Treated  Male   32   Marked       True\n",
       "4  36   Treated  Male   46   Marked       True"
      ]
     },
     "execution_count": 24,
     "metadata": {},
     "output_type": "execute_result"
    }
   ],
   "source": [
    "df2.head()"
   ]
  },
  {
   "cell_type": "code",
   "execution_count": 25,
   "metadata": {
    "collapsed": true,
    "slideshow": {
     "slide_type": "slide"
    }
   },
   "outputs": [],
   "source": [
    "X = patsy.dmatrix(\"Treatment + Sex + Age\", data=df2, return_type='dataframe')\n",
    "Y = df2.B_Improved"
   ]
  },
  {
   "cell_type": "code",
   "execution_count": 26,
   "metadata": {
    "collapsed": true,
    "slideshow": {
     "slide_type": "fragment"
    }
   },
   "outputs": [],
   "source": [
    "logit_model = sm.Logit(Y, X)"
   ]
  },
  {
   "cell_type": "code",
   "execution_count": 27,
   "metadata": {
    "collapsed": false,
    "slideshow": {
     "slide_type": "fragment"
    }
   },
   "outputs": [
    {
     "name": "stdout",
     "output_type": "stream",
     "text": [
      "Optimization terminated successfully.\n",
      "         Current function value: 0.547993\n",
      "         Iterations 6\n"
     ]
    }
   ],
   "source": [
    "results = logit_model.fit()"
   ]
  },
  {
   "cell_type": "code",
   "execution_count": 28,
   "metadata": {
    "collapsed": false,
    "slideshow": {
     "slide_type": "slide"
    }
   },
   "outputs": [
    {
     "data": {
      "text/html": [
       "<table class=\"simpletable\">\n",
       "<caption>Logit Regression Results</caption>\n",
       "<tr>\n",
       "  <th>Dep. Variable:</th>    <td>B_Improved</td>    <th>  No. Observations:  </th>  <td>    84</td>  \n",
       "</tr>\n",
       "<tr>\n",
       "  <th>Model:</th>               <td>Logit</td>      <th>  Df Residuals:      </th>  <td>    80</td>  \n",
       "</tr>\n",
       "<tr>\n",
       "  <th>Method:</th>               <td>MLE</td>       <th>  Df Model:          </th>  <td>     3</td>  \n",
       "</tr>\n",
       "<tr>\n",
       "  <th>Date:</th>          <td>Tue, 05 Apr 2016</td> <th>  Pseudo R-squ.:     </th>  <td>0.2094</td>  \n",
       "</tr>\n",
       "<tr>\n",
       "  <th>Time:</th>              <td>09:43:14</td>     <th>  Log-Likelihood:    </th> <td> -46.031</td> \n",
       "</tr>\n",
       "<tr>\n",
       "  <th>converged:</th>           <td>True</td>       <th>  LL-Null:           </th> <td> -58.224</td> \n",
       "</tr>\n",
       "<tr>\n",
       "  <th> </th>                      <td> </td>        <th>  LLR p-value:       </th> <td>2.075e-05</td>\n",
       "</tr>\n",
       "</table>\n",
       "<table class=\"simpletable\">\n",
       "<tr>\n",
       "            <td></td>              <th>coef</th>     <th>std err</th>      <th>z</th>      <th>P>|z|</th> <th>[95.0% Conf. Int.]</th> \n",
       "</tr>\n",
       "<tr>\n",
       "  <th>Intercept</th>            <td>   -3.0155</td> <td>    1.168</td> <td>   -2.582</td> <td> 0.010</td> <td>   -5.304    -0.727</td>\n",
       "</tr>\n",
       "<tr>\n",
       "  <th>Treatment[T.Treated]</th> <td>    1.7598</td> <td>    0.536</td> <td>    3.280</td> <td> 0.001</td> <td>    0.708     2.811</td>\n",
       "</tr>\n",
       "<tr>\n",
       "  <th>Sex[T.Male]</th>          <td>   -1.4878</td> <td>    0.595</td> <td>   -2.502</td> <td> 0.012</td> <td>   -2.654    -0.322</td>\n",
       "</tr>\n",
       "<tr>\n",
       "  <th>Age</th>                  <td>    0.0487</td> <td>    0.021</td> <td>    2.359</td> <td> 0.018</td> <td>    0.008     0.089</td>\n",
       "</tr>\n",
       "</table>"
      ],
      "text/plain": [
       "<class 'statsmodels.iolib.summary.Summary'>\n",
       "\"\"\"\n",
       "                           Logit Regression Results                           \n",
       "==============================================================================\n",
       "Dep. Variable:             B_Improved   No. Observations:                   84\n",
       "Model:                          Logit   Df Residuals:                       80\n",
       "Method:                           MLE   Df Model:                            3\n",
       "Date:                Tue, 05 Apr 2016   Pseudo R-squ.:                  0.2094\n",
       "Time:                        09:43:14   Log-Likelihood:                -46.031\n",
       "converged:                       True   LL-Null:                       -58.224\n",
       "                                        LLR p-value:                 2.075e-05\n",
       "========================================================================================\n",
       "                           coef    std err          z      P>|z|      [95.0% Conf. Int.]\n",
       "----------------------------------------------------------------------------------------\n",
       "Intercept               -3.0155      1.168     -2.582      0.010        -5.304    -0.727\n",
       "Treatment[T.Treated]     1.7598      0.536      3.280      0.001         0.708     2.811\n",
       "Sex[T.Male]             -1.4878      0.595     -2.502      0.012        -2.654    -0.322\n",
       "Age                      0.0487      0.021      2.359      0.018         0.008     0.089\n",
       "========================================================================================\n",
       "\"\"\""
      ]
     },
     "execution_count": 28,
     "metadata": {},
     "output_type": "execute_result"
    }
   ],
   "source": [
    "results.summary()"
   ]
  },
  {
   "cell_type": "markdown",
   "metadata": {
    "slideshow": {
     "slide_type": "skip"
    }
   },
   "source": [
    "    . logit B_Improved treat sex Age\n",
    "    \n",
    "    Iteration 0:   log likelihood = -58.224363  \n",
    "    Iteration 1:   log likelihood = -46.120282  \n",
    "    Iteration 2:   log likelihood = -46.031647  \n",
    "    Iteration 3:   log likelihood = -46.031402  \n",
    "    Iteration 4:   log likelihood = -46.031402  \n",
    "    \n",
    "    Logistic regression                               Number of obs   =         84\n",
    "                                                      LR chi2(3)      =      24.39\n",
    "                                                      Prob > chi2     =     0.0000\n",
    "    Log likelihood = -46.031402                       Pseudo R2       =     0.2094\n",
    "    \n",
    "    ------------------------------------------------------------------------------\n",
    "      B_Improved |      Coef.   Std. Err.      z    P>|z|     [95% Conf. Interval]\n",
    "    -------------+----------------------------------------------------------------\n",
    "           treat |   1.759804   .5364955     3.28   0.001     .7082924    2.811316\n",
    "             sex |  -1.487831   .5947694    -2.50   0.012    -2.653558   -.3221046\n",
    "             Age |   .0487465   .0206629     2.36   0.018     .0082479    .0892452\n",
    "           _cons |  -3.287434   1.449412    -2.27   0.023     -6.12823    -.446638\n",
    "    ------------------------------------------------------------------------------\n"
   ]
  },
  {
   "cell_type": "code",
   "execution_count": 29,
   "metadata": {
    "collapsed": false,
    "slideshow": {
     "slide_type": "slide"
    }
   },
   "outputs": [
    {
     "data": {
      "text/html": [
       "<table class=\"simpletable\">\n",
       "<caption>Logit Marginal Effects</caption>\n",
       "<tr>\n",
       "  <th>Dep. Variable:</th> <td>B_Improved</td>\n",
       "</tr>\n",
       "<tr>\n",
       "  <th>Method:</th>           <td>dydx</td>   \n",
       "</tr>\n",
       "<tr>\n",
       "  <th>At:</th>              <td>overall</td> \n",
       "</tr>\n",
       "</table>\n",
       "<table class=\"simpletable\">\n",
       "<tr>\n",
       "            <th></th>              <th>dy/dx</th>    <th>std err</th>      <th>z</th>      <th>P>|z|</th> <th>[95.0% Conf. Int.]</th> \n",
       "</tr>\n",
       "<tr>\n",
       "  <th>Treatment[T.Treated]</th> <td>    0.3238</td> <td>    0.074</td> <td>    4.403</td> <td> 0.000</td> <td>    0.180     0.468</td>\n",
       "</tr>\n",
       "<tr>\n",
       "  <th>Sex[T.Male]</th>          <td>   -0.2738</td> <td>    0.095</td> <td>   -2.878</td> <td> 0.004</td> <td>   -0.460    -0.087</td>\n",
       "</tr>\n",
       "<tr>\n",
       "  <th>Age</th>                  <td>    0.0090</td> <td>    0.003</td> <td>    2.689</td> <td> 0.007</td> <td>    0.002     0.016</td>\n",
       "</tr>\n",
       "</table>"
      ],
      "text/plain": [
       "<class 'statsmodels.iolib.summary.Summary'>\n",
       "\"\"\"\n",
       "        Logit Marginal Effects       \n",
       "=====================================\n",
       "Dep. Variable:             B_Improved\n",
       "Method:                          dydx\n",
       "At:                           overall\n",
       "========================================================================================\n",
       "                          dy/dx    std err          z      P>|z|      [95.0% Conf. Int.]\n",
       "----------------------------------------------------------------------------------------\n",
       "Treatment[T.Treated]     0.3238      0.074      4.403      0.000         0.180     0.468\n",
       "Sex[T.Male]             -0.2738      0.095     -2.878      0.004        -0.460    -0.087\n",
       "Age                      0.0090      0.003      2.689      0.007         0.002     0.016\n",
       "========================================================================================\n",
       "\"\"\""
      ]
     },
     "execution_count": 29,
     "metadata": {},
     "output_type": "execute_result"
    }
   ],
   "source": [
    "results.get_margeff().summary()"
   ]
  },
  {
   "cell_type": "markdown",
   "metadata": {
    "slideshow": {
     "slide_type": "skip"
    }
   },
   "source": [
    "    . margins, dydx(*)\n",
    "    \n",
    "    Average marginal effects                          Number of obs   =         84\n",
    "    Model VCE    : OIM\n",
    "    \n",
    "    Expression   : Pr(B_Improved), predict()\n",
    "    dy/dx w.r.t. : treat sex Age\n",
    "    \n",
    "    ------------------------------------------------------------------------------\n",
    "                 |            Delta-method\n",
    "                 |      dy/dx   Std. Err.      z    P>|z|     [95% Conf. Interval]\n",
    "    -------------+----------------------------------------------------------------\n",
    "           treat |   .3238183   .0735499     4.40   0.000     .1796631    .4679735\n",
    "             sex |   -.273773   .0951228    -2.88   0.004    -.4602103   -.0873358\n",
    "             Age |   .0089698    .003336     2.69   0.007     .0024312    .0155083\n",
    "    ------------------------------------------------------------------------------\n"
   ]
  },
  {
   "cell_type": "code",
   "execution_count": 30,
   "metadata": {
    "collapsed": true,
    "slideshow": {
     "slide_type": "slide"
    }
   },
   "outputs": [],
   "source": [
    "Y = df2.Improved"
   ]
  },
  {
   "cell_type": "code",
   "execution_count": 31,
   "metadata": {
    "collapsed": true,
    "slideshow": {
     "slide_type": "fragment"
    }
   },
   "outputs": [],
   "source": [
    "mlogit_model = sm.MNLogit(Y, X)"
   ]
  },
  {
   "cell_type": "code",
   "execution_count": 32,
   "metadata": {
    "collapsed": false,
    "slideshow": {
     "slide_type": "fragment"
    }
   },
   "outputs": [
    {
     "name": "stdout",
     "output_type": "stream",
     "text": [
      "Optimization terminated successfully.\n",
      "         Current function value: 0.850209\n",
      "         Iterations 6\n"
     ]
    }
   ],
   "source": [
    "results = mlogit_model.fit()"
   ]
  },
  {
   "cell_type": "code",
   "execution_count": 33,
   "metadata": {
    "collapsed": false,
    "slideshow": {
     "slide_type": "slide"
    }
   },
   "outputs": [
    {
     "data": {
      "text/html": [
       "<table class=\"simpletable\">\n",
       "<caption>MNLogit Regression Results</caption>\n",
       "<tr>\n",
       "  <th>Dep. Variable:</th>     <td>Improved</td>     <th>  No. Observations:  </th>  <td>    84</td>  \n",
       "</tr>\n",
       "<tr>\n",
       "  <th>Model:</th>              <td>MNLogit</td>     <th>  Df Residuals:      </th>  <td>    76</td>  \n",
       "</tr>\n",
       "<tr>\n",
       "  <th>Method:</th>               <td>MLE</td>       <th>  Df Model:          </th>  <td>     6</td>  \n",
       "</tr>\n",
       "<tr>\n",
       "  <th>Date:</th>          <td>Tue, 05 Apr 2016</td> <th>  Pseudo R-squ.:     </th>  <td>0.1594</td>  \n",
       "</tr>\n",
       "<tr>\n",
       "  <th>Time:</th>              <td>09:43:14</td>     <th>  Log-Likelihood:    </th> <td> -71.418</td> \n",
       "</tr>\n",
       "<tr>\n",
       "  <th>converged:</th>           <td>True</td>       <th>  LL-Null:           </th> <td> -84.958</td> \n",
       "</tr>\n",
       "<tr>\n",
       "  <th> </th>                      <td> </td>        <th>  LLR p-value:       </th> <td>0.0001398</td>\n",
       "</tr>\n",
       "</table>\n",
       "<table class=\"simpletable\">\n",
       "<tr>\n",
       "      <th>Improved=None</th>       <th>coef</th>     <th>std err</th>      <th>z</th>      <th>P>|z|</th> <th>[95.0% Conf. Int.]</th> \n",
       "</tr>\n",
       "<tr>\n",
       "  <th>Intercept</th>            <td>    3.6465</td> <td>    1.334</td> <td>    2.733</td> <td> 0.006</td> <td>    1.031     6.262</td>\n",
       "</tr>\n",
       "<tr>\n",
       "  <th>Treatment[T.Treated]</th> <td>   -2.1447</td> <td>    0.609</td> <td>   -3.524</td> <td> 0.000</td> <td>   -3.338    -0.952</td>\n",
       "</tr>\n",
       "<tr>\n",
       "  <th>Sex[T.Male]</th>          <td>    1.3900</td> <td>    0.656</td> <td>    2.118</td> <td> 0.034</td> <td>    0.104     2.677</td>\n",
       "</tr>\n",
       "<tr>\n",
       "  <th>Age</th>                  <td>   -0.0475</td> <td>    0.023</td> <td>   -2.054</td> <td> 0.040</td> <td>   -0.093    -0.002</td>\n",
       "</tr>\n",
       "<tr>\n",
       "      <th>Improved=Some</th>       <th>coef</th>     <th>std err</th>      <th>z</th>      <th>P>|z|</th> <th>[95.0% Conf. Int.]</th> \n",
       "</tr>\n",
       "<tr>\n",
       "  <th>Intercept</th>            <td>   -0.1695</td> <td>    1.800</td> <td>   -0.094</td> <td> 0.925</td> <td>   -3.697     3.358</td>\n",
       "</tr>\n",
       "<tr>\n",
       "  <th>Treatment[T.Treated]</th> <td>   -1.0687</td> <td>    0.698</td> <td>   -1.530</td> <td> 0.126</td> <td>   -2.438     0.300</td>\n",
       "</tr>\n",
       "<tr>\n",
       "  <th>Sex[T.Male]</th>          <td>   -0.3026</td> <td>    0.908</td> <td>   -0.333</td> <td> 0.739</td> <td>   -2.082     1.477</td>\n",
       "</tr>\n",
       "<tr>\n",
       "  <th>Age</th>                  <td>    0.0036</td> <td>    0.031</td> <td>    0.117</td> <td> 0.907</td> <td>   -0.056     0.063</td>\n",
       "</tr>\n",
       "</table>"
      ],
      "text/plain": [
       "<class 'statsmodels.iolib.summary.Summary'>\n",
       "\"\"\"\n",
       "                          MNLogit Regression Results                          \n",
       "==============================================================================\n",
       "Dep. Variable:               Improved   No. Observations:                   84\n",
       "Model:                        MNLogit   Df Residuals:                       76\n",
       "Method:                           MLE   Df Model:                            6\n",
       "Date:                Tue, 05 Apr 2016   Pseudo R-squ.:                  0.1594\n",
       "Time:                        09:43:14   Log-Likelihood:                -71.418\n",
       "converged:                       True   LL-Null:                       -84.958\n",
       "                                        LLR p-value:                 0.0001398\n",
       "========================================================================================\n",
       "       Improved=None       coef    std err          z      P>|z|      [95.0% Conf. Int.]\n",
       "----------------------------------------------------------------------------------------\n",
       "Intercept                3.6465      1.334      2.733      0.006         1.031     6.262\n",
       "Treatment[T.Treated]    -2.1447      0.609     -3.524      0.000        -3.338    -0.952\n",
       "Sex[T.Male]              1.3900      0.656      2.118      0.034         0.104     2.677\n",
       "Age                     -0.0475      0.023     -2.054      0.040        -0.093    -0.002\n",
       "----------------------------------------------------------------------------------------\n",
       "       Improved=Some       coef    std err          z      P>|z|      [95.0% Conf. Int.]\n",
       "----------------------------------------------------------------------------------------\n",
       "Intercept               -0.1695      1.800     -0.094      0.925        -3.697     3.358\n",
       "Treatment[T.Treated]    -1.0687      0.698     -1.530      0.126        -2.438     0.300\n",
       "Sex[T.Male]             -0.3026      0.908     -0.333      0.739        -2.082     1.477\n",
       "Age                      0.0036      0.031      0.117      0.907        -0.056     0.063\n",
       "========================================================================================\n",
       "\"\"\""
      ]
     },
     "execution_count": 33,
     "metadata": {},
     "output_type": "execute_result"
    }
   ],
   "source": [
    "results.summary()"
   ]
  },
  {
   "cell_type": "markdown",
   "metadata": {
    "slideshow": {
     "slide_type": "skip"
    }
   },
   "source": [
    "    . mlogit improve treat sex Age\n",
    "\n",
    "    Iteration 0:   log likelihood = -84.957958  \n",
    "    Iteration 1:   log likelihood = -71.577377  \n",
    "    Iteration 2:   log likelihood = -71.418045  \n",
    "    Iteration 3:   log likelihood = -71.417555  \n",
    "    Iteration 4:   log likelihood = -71.417555  \n",
    "\n",
    "    Multinomial logistic regression                   Number of obs   =         84\n",
    "                                                      LR chi2(6)      =      27.08\n",
    "                                                      Prob > chi2     =     0.0001\n",
    "    Log likelihood = -71.417555                       Pseudo R2       =     0.1594\n",
    "\n",
    "    ------------------------------------------------------------------------------\n",
    "         improve |      Coef.   Std. Err.      z    P>|z|     [95% Conf. Interval]\n",
    "    -------------+----------------------------------------------------------------\n",
    "    Marked       |\n",
    "           treat |   2.144733   .6086598     3.52   0.000     .9517818    3.337684\n",
    "             sex |  -1.390033   .6563779    -2.12   0.034     -2.67651   -.1035561\n",
    "             Age |    .047497   .0231275     2.05   0.040     .0021678    .0928261\n",
    "           _cons |  -4.401247   1.678671    -2.62   0.009    -7.691383   -1.111111\n",
    "    -------------+----------------------------------------------------------------\n",
    "    None         |  (base outcome)\n",
    "    -------------+----------------------------------------------------------------\n",
    "    Some         |\n",
    "           treat |    1.07607   .6902589     1.56   0.119    -.2768126    2.428953\n",
    "             sex |  -1.692597   .8710234    -1.94   0.052    -3.399771    .0145777\n",
    "             Age |   .0510761   .0288193     1.77   0.076    -.0054088     .107561\n",
    "           _cons |  -3.199487   2.012402    -1.59   0.112    -7.143722    .7447486\n",
    "    ------------------------------------------------------------------------------\n"
   ]
  },
  {
   "cell_type": "code",
   "execution_count": 34,
   "metadata": {
    "collapsed": false,
    "slideshow": {
     "slide_type": "slide"
    }
   },
   "outputs": [
    {
     "data": {
      "text/html": [
       "<table class=\"simpletable\">\n",
       "<caption>MNLogit Marginal Effects</caption>\n",
       "<tr>\n",
       "  <th>Dep. Variable:</th> <td>Improved</td>\n",
       "</tr>\n",
       "<tr>\n",
       "  <th>Method:</th>          <td>dydx</td>  \n",
       "</tr>\n",
       "<tr>\n",
       "  <th>At:</th>             <td>overall</td>\n",
       "</tr>\n",
       "</table>\n",
       "<table class=\"simpletable\">\n",
       "<tr>\n",
       "     <th>Improved=Marked</th>      <th>dy/dx</th>    <th>std err</th>      <th>z</th>      <th>P>|z|</th> <th>[95.0% Conf. Int.]</th> \n",
       "</tr>\n",
       "<tr>\n",
       "  <th>Treatment[T.Treated]</th> <td>    0.3151</td> <td>    0.073</td> <td>    4.306</td> <td> 0.000</td> <td>    0.172     0.459</td>\n",
       "</tr>\n",
       "<tr>\n",
       "  <th>Sex[T.Male]</th>          <td>   -0.1406</td> <td>    0.106</td> <td>   -1.329</td> <td> 0.184</td> <td>   -0.348     0.067</td>\n",
       "</tr>\n",
       "<tr>\n",
       "  <th>Age</th>                  <td>    0.0052</td> <td>    0.004</td> <td>    1.414</td> <td> 0.157</td> <td>   -0.002     0.012</td>\n",
       "</tr>\n",
       "<tr>\n",
       "      <th>Improved=None</th>       <th>dy/dx</th>    <th>std err</th>      <th>z</th>      <th>P>|z|</th> <th>[95.0% Conf. Int.]</th> \n",
       "</tr>\n",
       "<tr>\n",
       "  <th>Treatment[T.Treated]</th> <td>   -0.3210</td> <td>    0.074</td> <td>   -4.351</td> <td> 0.000</td> <td>   -0.466    -0.176</td>\n",
       "</tr>\n",
       "<tr>\n",
       "  <th>Sex[T.Male]</th>          <td>    0.2767</td> <td>    0.096</td> <td>    2.876</td> <td> 0.004</td> <td>    0.088     0.465</td>\n",
       "</tr>\n",
       "<tr>\n",
       "  <th>Age</th>                  <td>   -0.0090</td> <td>    0.003</td> <td>   -2.696</td> <td> 0.007</td> <td>   -0.016    -0.002</td>\n",
       "</tr>\n",
       "<tr>\n",
       "      <th>Improved=Some</th>       <th>dy/dx</th>    <th>std err</th>      <th>z</th>      <th>P>|z|</th> <th>[95.0% Conf. Int.]</th> \n",
       "</tr>\n",
       "<tr>\n",
       "  <th>Treatment[T.Treated]</th> <td>    0.0059</td> <td>    0.070</td> <td>    0.084</td> <td> 0.933</td> <td>   -0.131     0.142</td>\n",
       "</tr>\n",
       "<tr>\n",
       "  <th>Sex[T.Male]</th>          <td>   -0.1360</td> <td>    0.106</td> <td>   -1.288</td> <td> 0.198</td> <td>   -0.343     0.071</td>\n",
       "</tr>\n",
       "<tr>\n",
       "  <th>Age</th>                  <td>    0.0038</td> <td>    0.003</td> <td>    1.081</td> <td> 0.280</td> <td>   -0.003     0.011</td>\n",
       "</tr>\n",
       "</table>"
      ],
      "text/plain": [
       "<class 'statsmodels.iolib.summary.Summary'>\n",
       "\"\"\"\n",
       "       MNLogit Marginal Effects      \n",
       "=====================================\n",
       "Dep. Variable:               Improved\n",
       "Method:                          dydx\n",
       "At:                           overall\n",
       "========================================================================================\n",
       "     Improved=Marked      dy/dx    std err          z      P>|z|      [95.0% Conf. Int.]\n",
       "----------------------------------------------------------------------------------------\n",
       "Treatment[T.Treated]     0.3151      0.073      4.306      0.000         0.172     0.459\n",
       "Sex[T.Male]             -0.1406      0.106     -1.329      0.184        -0.348     0.067\n",
       "Age                      0.0052      0.004      1.414      0.157        -0.002     0.012\n",
       "----------------------------------------------------------------------------------------\n",
       "       Improved=None      dy/dx    std err          z      P>|z|      [95.0% Conf. Int.]\n",
       "----------------------------------------------------------------------------------------\n",
       "Treatment[T.Treated]    -0.3210      0.074     -4.351      0.000        -0.466    -0.176\n",
       "Sex[T.Male]              0.2767      0.096      2.876      0.004         0.088     0.465\n",
       "Age                     -0.0090      0.003     -2.696      0.007        -0.016    -0.002\n",
       "----------------------------------------------------------------------------------------\n",
       "       Improved=Some      dy/dx    std err          z      P>|z|      [95.0% Conf. Int.]\n",
       "----------------------------------------------------------------------------------------\n",
       "Treatment[T.Treated]     0.0059      0.070      0.084      0.933        -0.131     0.142\n",
       "Sex[T.Male]             -0.1360      0.106     -1.288      0.198        -0.343     0.071\n",
       "Age                      0.0038      0.003      1.081      0.280        -0.003     0.011\n",
       "========================================================================================\n",
       "\"\"\""
      ]
     },
     "execution_count": 34,
     "metadata": {},
     "output_type": "execute_result"
    }
   ],
   "source": [
    "results.get_margeff().summary()"
   ]
  },
  {
   "cell_type": "markdown",
   "metadata": {
    "slideshow": {
     "slide_type": "skip"
    }
   },
   "source": [
    "    . margins, dydx(*)\n",
    "\n",
    "    Average marginal effects                          Number of obs   =         84\n",
    "    Model VCE    : OIM\n",
    "\n",
    "    Expression   : Pr(improve==Marked), predict()\n",
    "    dy/dx w.r.t. : treat sex Age\n",
    "\n",
    "    ------------------------------------------------------------------------------\n",
    "             |            Delta-method\n",
    "             |      dy/dx   Std. Err.      z    P>|z|     [95% Conf. Interval]\n",
    "    -------------+----------------------------------------------------------------\n",
    "       treat |   .3151456   .0731874     4.31   0.000     .1717009    .4585903\n",
    "         sex |  -.1406108   .1058278    -1.33   0.184    -.3480295    .0668079\n",
    "         Age |   .0052369   .0037041     1.41   0.157    -.0020229    .0124967\n",
    "    ------------------------------------------------------------------------------\n"
   ]
  },
  {
   "cell_type": "code",
   "execution_count": 35,
   "metadata": {
    "collapsed": false,
    "slideshow": {
     "slide_type": "slide"
    }
   },
   "outputs": [
    {
     "data": {
      "text/plain": [
       "<matplotlib.axes._subplots.AxesSubplot at 0x11a8a25c0>"
      ]
     },
     "execution_count": 35,
     "metadata": {},
     "output_type": "execute_result"
    },
    {
     "data": {
      "image/png": "[encoded data removed]",
      "text/plain": [
       "<matplotlib.figure.Figure at 0x11a8a0e10>"
      ]
     },
     "metadata": {},
     "output_type": "display_data"
    }
   ],
   "source": [
    "sns.distplot(df2['Age'])"
   ]
  },
  {
   "cell_type": "code",
   "execution_count": 36,
   "metadata": {
    "collapsed": false,
    "slideshow": {
     "slide_type": "slide"
    }
   },
   "outputs": [
    {
     "data": {
      "text/plain": [
       "(48.5, 61.25]      33\n",
       "(61.25, 74]        26\n",
       "(35.75, 48.5]      13\n",
       "(22.949, 35.75]    12\n",
       "dtype: int64"
      ]
     },
     "execution_count": 36,
     "metadata": {},
     "output_type": "execute_result"
    }
   ],
   "source": [
    "df2['age_cat'] = pd.cut(df2['Age'], 4)\n",
    "df2['age_cat'].value_counts()"
   ]
  },
  {
   "cell_type": "code",
   "execution_count": 37,
   "metadata": {
    "collapsed": true,
    "slideshow": {
     "slide_type": "slide"
    }
   },
   "outputs": [],
   "source": [
    "X = patsy.dmatrix(\"Treatment + Sex + age_cat\", data=df2, return_type='dataframe')\n",
    "Y = df2.B_Improved"
   ]
  },
  {
   "cell_type": "code",
   "execution_count": 38,
   "metadata": {
    "collapsed": true,
    "slideshow": {
     "slide_type": "fragment"
    }
   },
   "outputs": [],
   "source": [
    "logit_model = sm.Logit(Y, X)"
   ]
  },
  {
   "cell_type": "code",
   "execution_count": 39,
   "metadata": {
    "collapsed": false,
    "slideshow": {
     "slide_type": "fragment"
    }
   },
   "outputs": [
    {
     "name": "stdout",
     "output_type": "stream",
     "text": [
      "Optimization terminated successfully.\n",
      "         Current function value: 0.548688\n",
      "         Iterations 6\n"
     ]
    }
   ],
   "source": [
    "results = logit_model.fit()"
   ]
  },
  {
   "cell_type": "code",
   "execution_count": 40,
   "metadata": {
    "collapsed": false,
    "slideshow": {
     "slide_type": "slide"
    }
   },
   "outputs": [
    {
     "data": {
      "text/html": [
       "<table class=\"simpletable\">\n",
       "<caption>Logit Regression Results</caption>\n",
       "<tr>\n",
       "  <th>Dep. Variable:</th>    <td>B_Improved</td>    <th>  No. Observations:  </th>  <td>    84</td>  \n",
       "</tr>\n",
       "<tr>\n",
       "  <th>Model:</th>               <td>Logit</td>      <th>  Df Residuals:      </th>  <td>    78</td>  \n",
       "</tr>\n",
       "<tr>\n",
       "  <th>Method:</th>               <td>MLE</td>       <th>  Df Model:          </th>  <td>     5</td>  \n",
       "</tr>\n",
       "<tr>\n",
       "  <th>Date:</th>          <td>Tue, 05 Apr 2016</td> <th>  Pseudo R-squ.:     </th>  <td>0.2084</td>  \n",
       "</tr>\n",
       "<tr>\n",
       "  <th>Time:</th>              <td>09:43:14</td>     <th>  Log-Likelihood:    </th> <td> -46.090</td> \n",
       "</tr>\n",
       "<tr>\n",
       "  <th>converged:</th>           <td>True</td>       <th>  LL-Null:           </th> <td> -58.224</td> \n",
       "</tr>\n",
       "<tr>\n",
       "  <th> </th>                      <td> </td>        <th>  LLR p-value:       </th> <td>0.0001927</td>\n",
       "</tr>\n",
       "</table>\n",
       "<table class=\"simpletable\">\n",
       "<tr>\n",
       "              <td></td>                <th>coef</th>     <th>std err</th>      <th>z</th>      <th>P>|z|</th> <th>[95.0% Conf. Int.]</th> \n",
       "</tr>\n",
       "<tr>\n",
       "  <th>Intercept</th>                <td>   -1.1396</td> <td>    0.716</td> <td>   -1.592</td> <td> 0.111</td> <td>   -2.542     0.263</td>\n",
       "</tr>\n",
       "<tr>\n",
       "  <th>Treatment[T.Treated]</th>     <td>    1.8908</td> <td>    0.553</td> <td>    3.418</td> <td> 0.001</td> <td>    0.807     2.975</td>\n",
       "</tr>\n",
       "<tr>\n",
       "  <th>Sex[T.Male]</th>              <td>   -1.6145</td> <td>    0.609</td> <td>   -2.653</td> <td> 0.008</td> <td>   -2.807    -0.422</td>\n",
       "</tr>\n",
       "<tr>\n",
       "  <th>age_cat[T.(35.75, 48.5]]</th> <td>   -0.4551</td> <td>    0.956</td> <td>   -0.476</td> <td> 0.634</td> <td>   -2.329     1.419</td>\n",
       "</tr>\n",
       "<tr>\n",
       "  <th>age_cat[T.(48.5, 61.25]]</th> <td>    1.0150</td> <td>    0.772</td> <td>    1.315</td> <td> 0.188</td> <td>   -0.498     2.528</td>\n",
       "</tr>\n",
       "<tr>\n",
       "  <th>age_cat[T.(61.25, 74]]</th>   <td>    1.1948</td> <td>    0.792</td> <td>    1.508</td> <td> 0.132</td> <td>   -0.358     2.748</td>\n",
       "</tr>\n",
       "</table>"
      ],
      "text/plain": [
       "<class 'statsmodels.iolib.summary.Summary'>\n",
       "\"\"\"\n",
       "                           Logit Regression Results                           \n",
       "==============================================================================\n",
       "Dep. Variable:             B_Improved   No. Observations:                   84\n",
       "Model:                          Logit   Df Residuals:                       78\n",
       "Method:                           MLE   Df Model:                            5\n",
       "Date:                Tue, 05 Apr 2016   Pseudo R-squ.:                  0.2084\n",
       "Time:                        09:43:14   Log-Likelihood:                -46.090\n",
       "converged:                       True   LL-Null:                       -58.224\n",
       "                                        LLR p-value:                 0.0001927\n",
       "============================================================================================\n",
       "                               coef    std err          z      P>|z|      [95.0% Conf. Int.]\n",
       "--------------------------------------------------------------------------------------------\n",
       "Intercept                   -1.1396      0.716     -1.592      0.111        -2.542     0.263\n",
       "Treatment[T.Treated]         1.8908      0.553      3.418      0.001         0.807     2.975\n",
       "Sex[T.Male]                 -1.6145      0.609     -2.653      0.008        -2.807    -0.422\n",
       "age_cat[T.(35.75, 48.5]]    -0.4551      0.956     -0.476      0.634        -2.329     1.419\n",
       "age_cat[T.(48.5, 61.25]]     1.0150      0.772      1.315      0.188        -0.498     2.528\n",
       "age_cat[T.(61.25, 74]]       1.1948      0.792      1.508      0.132        -0.358     2.748\n",
       "============================================================================================\n",
       "\"\"\""
      ]
     },
     "execution_count": 40,
     "metadata": {},
     "output_type": "execute_result"
    }
   ],
   "source": [
    "results.summary()"
   ]
  },
  {
   "cell_type": "code",
   "execution_count": 41,
   "metadata": {
    "collapsed": false,
    "slideshow": {
     "slide_type": "slide"
    }
   },
   "outputs": [
    {
     "data": {
      "text/html": [
       "<table class=\"simpletable\">\n",
       "<caption>Logit Marginal Effects</caption>\n",
       "<tr>\n",
       "  <th>Dep. Variable:</th> <td>B_Improved</td>\n",
       "</tr>\n",
       "<tr>\n",
       "  <th>Method:</th>           <td>dydx</td>   \n",
       "</tr>\n",
       "<tr>\n",
       "  <th>At:</th>              <td>overall</td> \n",
       "</tr>\n",
       "</table>\n",
       "<table class=\"simpletable\">\n",
       "<tr>\n",
       "              <th></th>                <th>dy/dx</th>    <th>std err</th>      <th>z</th>      <th>P>|z|</th> <th>[95.0% Conf. Int.]</th> \n",
       "</tr>\n",
       "<tr>\n",
       "  <th>Treatment[T.Treated]</th>     <td>    0.3495</td> <td>    0.074</td> <td>    4.734</td> <td> 0.000</td> <td>    0.205     0.494</td>\n",
       "</tr>\n",
       "<tr>\n",
       "  <th>Sex[T.Male]</th>              <td>   -0.2984</td> <td>    0.096</td> <td>   -3.121</td> <td> 0.002</td> <td>   -0.486    -0.111</td>\n",
       "</tr>\n",
       "<tr>\n",
       "  <th>age_cat[T.(35.75, 48.5]]</th> <td>   -0.0841</td> <td>    0.176</td> <td>   -0.477</td> <td> 0.633</td> <td>   -0.430     0.261</td>\n",
       "</tr>\n",
       "<tr>\n",
       "  <th>age_cat[T.(48.5, 61.25]]</th> <td>    0.1876</td> <td>    0.137</td> <td>    1.369</td> <td> 0.171</td> <td>   -0.081     0.456</td>\n",
       "</tr>\n",
       "<tr>\n",
       "  <th>age_cat[T.(61.25, 74]]</th>   <td>    0.2209</td> <td>    0.139</td> <td>    1.591</td> <td> 0.112</td> <td>   -0.051     0.493</td>\n",
       "</tr>\n",
       "</table>"
      ],
      "text/plain": [
       "<class 'statsmodels.iolib.summary.Summary'>\n",
       "\"\"\"\n",
       "        Logit Marginal Effects       \n",
       "=====================================\n",
       "Dep. Variable:             B_Improved\n",
       "Method:                          dydx\n",
       "At:                           overall\n",
       "============================================================================================\n",
       "                              dy/dx    std err          z      P>|z|      [95.0% Conf. Int.]\n",
       "--------------------------------------------------------------------------------------------\n",
       "Treatment[T.Treated]         0.3495      0.074      4.734      0.000         0.205     0.494\n",
       "Sex[T.Male]                 -0.2984      0.096     -3.121      0.002        -0.486    -0.111\n",
       "age_cat[T.(35.75, 48.5]]    -0.0841      0.176     -0.477      0.633        -0.430     0.261\n",
       "age_cat[T.(48.5, 61.25]]     0.1876      0.137      1.369      0.171        -0.081     0.456\n",
       "age_cat[T.(61.25, 74]]       0.2209      0.139      1.591      0.112        -0.051     0.493\n",
       "============================================================================================\n",
       "\"\"\""
      ]
     },
     "execution_count": 41,
     "metadata": {},
     "output_type": "execute_result"
    }
   ],
   "source": [
    "results.get_margeff().summary()"
   ]
  }
 ],
 "metadata": {
  "celltoolbar": "Slideshow",
  "kernelspec": {
   "display_name": "Python 3",
   "language": "python",
   "name": "python3"
  },
  "language_info": {
   "codemirror_mode": {
    "name": "ipython",
    "version": 3
   },
   "file_extension": ".py",
   "mimetype": "text/x-python",
   "name": "python",
   "nbconvert_exporter": "python",
   "pygments_lexer": "ipython3",
   "version": "3.5.1"
  }
 },
 "nbformat": 4,
 "nbformat_minor": 0
}
