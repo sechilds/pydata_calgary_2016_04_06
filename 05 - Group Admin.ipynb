{
 "cells": [
  {
   "cell_type": "code",
   "execution_count": 1,
   "metadata": {
    "collapsed": false,
    "slideshow": {
     "slide_type": "skip"
    }
   },
   "outputs": [
    {
     "data": {
      "text/html": [
       "<style>body {\n",
       "\tmargin: 0;\n",
       "\tfont-family: Helvetica;\n",
       "}\n",
       "table.dataframe {\n",
       "\tborder-collapse: collapse;\n",
       "\tborder: none;\n",
       "}\n",
       "table.dataframe tr {\n",
       "\tborder: none;\n",
       "}\n",
       "table.dataframe td, table.dataframe th {\n",
       "\tmargin: 0;\n",
       "\tborder: 1px solid white;\n",
       "\tpadding-left: 0.25em;\n",
       "\tpadding-right: 0.25em;\n",
       "}\n",
       "table.dataframe th:not(:empty) {\n",
       "\tbackground-color: #fec;\n",
       "\ttext-align: left;\n",
       "\tfont-weight: normal;\n",
       "}\n",
       "table.dataframe tr:nth-child(2) th:empty {\n",
       "\tborder-left: none;\n",
       "\tborder-right: 1px dashed #888\n",
       "}\n",
       "table.dataframe td {\n",
       "\tborder: 2px solid #ccf;\n",
       "\tbackground-color: #f4f4ff;\n",
       "}\n",
       "</style>"
      ],
      "text/plain": [
       "<IPython.core.display.HTML object>"
      ]
     },
     "execution_count": 1,
     "metadata": {},
     "output_type": "execute_result"
    }
   ],
   "source": [
    "from IPython.core.display import HTML\n",
    "css = open('style_table.css').read()\n",
    "HTML('<style>{}</style>'.format(css))"
   ]
  },
  {
   "cell_type": "code",
   "execution_count": 2,
   "metadata": {
    "collapsed": true,
    "slideshow": {
     "slide_type": "skip"
    }
   },
   "outputs": [],
   "source": [
    "from IPython.display import IFrame"
   ]
  },
  {
   "cell_type": "markdown",
   "metadata": {
    "slideshow": {
     "slide_type": "slide"
    }
   },
   "source": [
    "## Group Introduction"
   ]
  },
  {
   "cell_type": "markdown",
   "metadata": {
    "slideshow": {
     "slide_type": "notes"
    }
   },
   "source": [
    "This is the point where we have a discussion about the group, what we want to get out of it, etc."
   ]
  },
  {
   "cell_type": "markdown",
   "metadata": {
    "slideshow": {
     "slide_type": "slide"
    }
   },
   "source": [
    "#### Sponsor Information"
   ]
  },
  {
   "cell_type": "code",
   "execution_count": 3,
   "metadata": {
    "collapsed": false,
    "slideshow": {
     "slide_type": "fragment"
    }
   },
   "outputs": [
    {
     "data": {
      "text/html": [
       "\n",
       "        <iframe\n",
       "            width=\"1000\"\n",
       "            height=\"350\"\n",
       "            src=\"http://www.numfocus.org/\"\n",
       "            frameborder=\"0\"\n",
       "            allowfullscreen\n",
       "        ></iframe>\n",
       "        "
      ],
      "text/plain": [
       "<IPython.lib.display.IFrame at 0x1043f9cf8>"
      ]
     },
     "execution_count": 3,
     "metadata": {},
     "output_type": "execute_result"
    }
   ],
   "source": [
    "IFrame('http://www.numfocus.org/', width = 1000, height = 350)"
   ]
  },
  {
   "cell_type": "code",
   "execution_count": 4,
   "metadata": {
    "collapsed": false,
    "slideshow": {
     "slide_type": "subslide"
    }
   },
   "outputs": [
    {
     "data": {
      "text/html": [
       "\n",
       "        <iframe\n",
       "            width=\"1000\"\n",
       "            height=\"350\"\n",
       "            src=\"http://www.numfocus.org/open-source-projects.html\"\n",
       "            frameborder=\"0\"\n",
       "            allowfullscreen\n",
       "        ></iframe>\n",
       "        "
      ],
      "text/plain": [
       "<IPython.lib.display.IFrame at 0x1043f9c50>"
      ]
     },
     "execution_count": 4,
     "metadata": {},
     "output_type": "execute_result"
    }
   ],
   "source": [
    "IFrame('http://www.numfocus.org/open-source-projects.html', width = 1000, height = 350)"
   ]
  },
  {
   "cell_type": "code",
   "execution_count": 5,
   "metadata": {
    "collapsed": false,
    "slideshow": {
     "slide_type": "subslide"
    }
   },
   "outputs": [
    {
     "data": {
      "text/html": [
       "\n",
       "        <iframe\n",
       "            width=\"1000\"\n",
       "            height=\"350\"\n",
       "            src=\"http://www.numfocus.org/affliated-projects.html\"\n",
       "            frameborder=\"0\"\n",
       "            allowfullscreen\n",
       "        ></iframe>\n",
       "        "
      ],
      "text/plain": [
       "<IPython.lib.display.IFrame at 0x1043f9668>"
      ]
     },
     "execution_count": 5,
     "metadata": {},
     "output_type": "execute_result"
    }
   ],
   "source": [
    "IFrame('http://www.numfocus.org/affliated-projects.html', width = 1000, height = 350)"
   ]
  },
  {
   "cell_type": "markdown",
   "metadata": {
    "slideshow": {
     "slide_type": "slide"
    }
   },
   "source": [
    "#### Group Purpose"
   ]
  },
  {
   "cell_type": "markdown",
   "metadata": {
    "slideshow": {
     "slide_type": "fragment"
    }
   },
   "source": [
    "From the [meetup page](http://www.meetup.com/PyData-Calgary/):\n",
    "\n",
    ">PyData is a group for users and developers of data analysis tools to share ideas and learn from each other.\n",
    ">We gather to discuss how best to apply Python tools, as well as those using R and Julia,\n",
    ">to meet the evolving challenges in data management, processing, analytics, and visualization.\n",
    ">PyData groups, events, and conferences aim to provide a venue for users across all the various\n",
    ">domains of data analysis to share their experiences and their techniques.\n",
    ">PyData is organized by NumFOCUS.org, a 501(c)3 non-profit in the United States.\n",
    "\n",
    "This is just a **starting point** for discussion. The group can evolve in any direction we would like to take it."
   ]
  },
  {
   "cell_type": "markdown",
   "metadata": {
    "slideshow": {
     "slide_type": "slide"
    }
   },
   "source": [
    "#### Call for Volunteers"
   ]
  },
  {
   "cell_type": "markdown",
   "metadata": {
    "slideshow": {
     "slide_type": "fragment"
    }
   },
   "source": [
    "Obviously, I can't keep this group running by myself. We will need volunteers to give talks, conduct workshops and help out in other ways. If you have any desire to do a talk, run a workshop or some other activity - please contact the organizer(s). We can help you turn an idea into a talk, etc."
   ]
  },
  {
   "cell_type": "markdown",
   "metadata": {
    "slideshow": {
     "slide_type": "fragment"
    }
   },
   "source": [
    "We are also going to need **mentors**, people experience with Python or a part of the PyData Stack to help others."
   ]
  },
  {
   "cell_type": "markdown",
   "metadata": {
    "slideshow": {
     "slide_type": "fragment"
    }
   },
   "source": [
    "I am looking for **co-organizers** to help plan meetings and events."
   ]
  },
  {
   "cell_type": "markdown",
   "metadata": {
    "slideshow": {
     "slide_type": "slide"
    }
   },
   "source": [
    "#### Sister Groups"
   ]
  },
  {
   "cell_type": "markdown",
   "metadata": {
    "slideshow": {
     "slide_type": "fragment"
    }
   },
   "source": [
    "* [Data for Good](http://www.meetup.com/Data-for-Good-Calgary/) - connecting data people with non-profits\n",
    "* [PyYYC](http://www.meetup.com/py-yyc/) - Calgary Python group\n",
    "* [PrarieML](http://www.meetup.com/PrairieML/) - Machine Learning\n",
    "\n",
    "This group will be different from each of these three, but there will be some overlap."
   ]
  }
 ],
 "metadata": {
  "celltoolbar": "Slideshow",
  "kernelspec": {
   "display_name": "Python 3",
   "language": "python",
   "name": "python3"
  },
  "language_info": {
   "codemirror_mode": {
    "name": "ipython",
    "version": 3
   },
   "file_extension": ".py",
   "mimetype": "text/x-python",
   "name": "python",
   "nbconvert_exporter": "python",
   "pygments_lexer": "ipython3",
   "version": "3.5.1"
  }
 },
 "nbformat": 4,
 "nbformat_minor": 0
}
